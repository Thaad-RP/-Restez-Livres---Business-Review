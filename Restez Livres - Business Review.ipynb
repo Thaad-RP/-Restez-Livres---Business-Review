{
 "cells": [
  {
   "cell_type": "markdown",
   "metadata": {},
   "source": [
    "# Restez Livres - Revue Business\n",
    "\"Rester livres\" s'est d'abord développée dans une grande ville de France, avec plusieurs magasins, jusqu'à décider d'ouvrir une boutique en ligne. Son approche de la vente de livres en ligne, basée sur des algorithmes de recommandations, lui a valu un franc succès !"
   ]
  },
  {
   "cell_type": "markdown",
   "metadata": {},
   "source": [
    "## Sommaire <a id=\"Sommaire\"></a>\n",
    "[Travaux préliminaires](#Titre1)\n",
    "<br/>\n",
    "<br/> [I - Nettoyage et compréhension des données](#Titre2)\n",
    "<br/> [A - Nettoyage du Dataframe Produits](#Titre2A)\n",
    "<br/> [B - Nettoyage du Dataframe Clients](#Titre2B)\n",
    "<br/> [C - Nettoyage du Dataframe Transactions](#Titre2C)\n",
    "<br/>\n",
    "<br/> [II - Compilation des données et analyses](#Titre3)\n",
    "<br/> [A - Compilation des Dataframes](#Titre3A)\n",
    "<br/> [B - Analyse du Dataframe compilé](#Titre3B)\n",
    "<br/> [C - Courbe de Lorenz et indice de Gini](#Titre3C)\n",
    "<br/>\n",
    "<br/> [III - Corrélations](#Titre4)\n",
    "<br/> [A - 2 variables qualitatives : Test du KHIDEUX](#Titre4A)\n",
    "<br/> [B - 1 variable qualitative et 1 variable quantitative : ANOVA](#Titre4B)\n",
    "<br/> [C - 2 variables quantitatives : Coefficient de Pierson](#Titre4C)"
   ]
  },
  {
   "cell_type": "markdown",
   "metadata": {},
   "source": [
    "## Travaux préliminaires <a id=\"Titre1\"></a>"
   ]
  },
  {
   "cell_type": "markdown",
   "metadata": {},
   "source": [
    "### A - Import des librairies"
   ]
  },
  {
   "cell_type": "code",
   "execution_count": 1,
   "metadata": {},
   "outputs": [],
   "source": [
    "import pandas as pd\n",
    "import numpy as np\n",
    "import matplotlib.pyplot as pp\n",
    "import seaborn as sb\n",
    "import datetime as dt\n",
    "import scipy.stats as st"
   ]
  },
  {
   "cell_type": "markdown",
   "metadata": {},
   "source": [
    " ### B - Lieu d'enregistrement des données et importation des Dataframes"
   ]
  },
  {
   "cell_type": "code",
   "execution_count": 2,
   "metadata": {},
   "outputs": [
    {
     "name": "stdout",
     "output_type": "stream",
     "text": [
      "C:\\Users\\Thaad\\Desktop\\Python\\Open Classroom\n"
     ]
    }
   ],
   "source": [
    "%cd C:\\Users\\Thaad\\Desktop\\Python\\Open Classroom"
   ]
  },
  {
   "cell_type": "code",
   "execution_count": 3,
   "metadata": {},
   "outputs": [],
   "source": [
    "Produits = pd.read_csv('products.csv')\n",
    "Clients = pd.read_csv('customers.csv')\n",
    "Transactions = pd.read_csv('transactions.csv')"
   ]
  },
  {
   "cell_type": "markdown",
   "metadata": {},
   "source": [
    "### C - Configuration du Notebook Jupyter"
   ]
  },
  {
   "cell_type": "code",
   "execution_count": 4,
   "metadata": {},
   "outputs": [],
   "source": [
    "pd.set_option('max_colwidth', 100)\n",
    "pd.set_option('display.max_rows', 1000)\n",
    "pd.set_option('display.max_columns', 1000)"
   ]
  },
  {
   "cell_type": "markdown",
   "metadata": {},
   "source": [
    "### D - Fonction est_vide"
   ]
  },
  {
   "cell_type": "code",
   "execution_count": 5,
   "metadata": {},
   "outputs": [],
   "source": [
    "def empty_val(df):\n",
    "    data = df.copy()\n",
    "    for column in df.columns:\n",
    "        data = data[data[column].astype(str).str.len() < 1]\n",
    "    return data"
   ]
  },
  {
   "cell_type": "markdown",
   "metadata": {},
   "source": [
    "### E - Fonction eta_carre"
   ]
  },
  {
   "cell_type": "code",
   "execution_count": 6,
   "metadata": {},
   "outputs": [],
   "source": [
    "def eta_squared(x,y):\n",
    "    moyenne_y = y.mean()\n",
    "    classes = []\n",
    "    for classe in x.unique():\n",
    "        yi_classe = y[x==classe]\n",
    "        classes.append({'ni': len(yi_classe),\n",
    "                        'moyenne_classe': yi_classe.mean()})\n",
    "    SCT = sum([(yj-moyenne_y)**2 for yj in y])\n",
    "    SCE = sum([c['ni']*(c['moyenne_classe']-moyenne_y)**2 for c in classes])\n",
    "    return SCE/SCT"
   ]
  },
  {
   "cell_type": "markdown",
   "metadata": {},
   "source": [
    "[Retour au Sommaire](#Sommaire)"
   ]
  },
  {
   "cell_type": "markdown",
   "metadata": {},
   "source": [
    "## I - Nettoyage et compréhension des données <a id=\"Titre2\"></a>\n",
    "Nettoyage et mise en forme des données et identification, si applicable, des valeurs manquantes ou aberrantes."
   ]
  },
  {
   "cell_type": "markdown",
   "metadata": {},
   "source": [
    "### A - Nettoyage du Dataframe Produits <a id=\"Titre2A\"></a>"
   ]
  },
  {
   "cell_type": "markdown",
   "metadata": {},
   "source": [
    "#### 1 - Compréhension du Dataframe"
   ]
  },
  {
   "cell_type": "markdown",
   "metadata": {},
   "source": [
    "Afin d'obtenir une meilleure compréhension de nos données, nous avons analysé chaque colonne pour en comprendre leur contenu."
   ]
  },
  {
   "cell_type": "code",
   "execution_count": 7,
   "metadata": {
    "scrolled": false
   },
   "outputs": [
    {
     "name": "stdout",
     "output_type": "stream",
     "text": [
      "<class 'pandas.core.frame.DataFrame'>\n",
      "RangeIndex: 3287 entries, 0 to 3286\n",
      "Data columns (total 3 columns):\n",
      " #   Column   Non-Null Count  Dtype  \n",
      "---  ------   --------------  -----  \n",
      " 0   id_prod  3287 non-null   object \n",
      " 1   price    3287 non-null   float64\n",
      " 2   categ    3287 non-null   int64  \n",
      "dtypes: float64(1), int64(1), object(1)\n",
      "memory usage: 77.2+ KB\n"
     ]
    },
    {
     "data": {
      "text/html": [
       "<div>\n",
       "<style scoped>\n",
       "    .dataframe tbody tr th:only-of-type {\n",
       "        vertical-align: middle;\n",
       "    }\n",
       "\n",
       "    .dataframe tbody tr th {\n",
       "        vertical-align: top;\n",
       "    }\n",
       "\n",
       "    .dataframe thead th {\n",
       "        text-align: right;\n",
       "    }\n",
       "</style>\n",
       "<table border=\"1\" class=\"dataframe\">\n",
       "  <thead>\n",
       "    <tr style=\"text-align: right;\">\n",
       "      <th></th>\n",
       "      <th>id_prod</th>\n",
       "      <th>price</th>\n",
       "      <th>categ</th>\n",
       "    </tr>\n",
       "  </thead>\n",
       "  <tbody>\n",
       "    <tr>\n",
       "      <th>0</th>\n",
       "      <td>0_1421</td>\n",
       "      <td>19.99</td>\n",
       "      <td>0</td>\n",
       "    </tr>\n",
       "    <tr>\n",
       "      <th>1</th>\n",
       "      <td>0_1368</td>\n",
       "      <td>5.13</td>\n",
       "      <td>0</td>\n",
       "    </tr>\n",
       "    <tr>\n",
       "      <th>2</th>\n",
       "      <td>0_731</td>\n",
       "      <td>17.99</td>\n",
       "      <td>0</td>\n",
       "    </tr>\n",
       "  </tbody>\n",
       "</table>\n",
       "</div>"
      ],
      "text/plain": [
       "  id_prod  price  categ\n",
       "0  0_1421  19.99      0\n",
       "1  0_1368   5.13      0\n",
       "2   0_731  17.99      0"
      ]
     },
     "execution_count": 7,
     "metadata": {},
     "output_type": "execute_result"
    }
   ],
   "source": [
    "Produits.info()\n",
    "Produits.head(3)"
   ]
  },
  {
   "cell_type": "markdown",
   "metadata": {},
   "source": [
    "- Restez Livres vend 3287 types de produits.\n",
    "- Chaque produit possède une catégorie et un prix."
   ]
  },
  {
   "cell_type": "code",
   "execution_count": 8,
   "metadata": {
    "scrolled": true
   },
   "outputs": [
    {
     "data": {
      "text/html": [
       "<div>\n",
       "<style scoped>\n",
       "    .dataframe tbody tr th:only-of-type {\n",
       "        vertical-align: middle;\n",
       "    }\n",
       "\n",
       "    .dataframe tbody tr th {\n",
       "        vertical-align: top;\n",
       "    }\n",
       "\n",
       "    .dataframe thead th {\n",
       "        text-align: right;\n",
       "    }\n",
       "</style>\n",
       "<table border=\"1\" class=\"dataframe\">\n",
       "  <thead>\n",
       "    <tr style=\"text-align: right;\">\n",
       "      <th></th>\n",
       "      <th>id_prod</th>\n",
       "      <th>price</th>\n",
       "      <th>categ</th>\n",
       "    </tr>\n",
       "  </thead>\n",
       "  <tbody>\n",
       "  </tbody>\n",
       "</table>\n",
       "</div>"
      ],
      "text/plain": [
       "Empty DataFrame\n",
       "Columns: [id_prod, price, categ]\n",
       "Index: []"
      ]
     },
     "execution_count": 8,
     "metadata": {},
     "output_type": "execute_result"
    }
   ],
   "source": [
    "empty_val(Produits)"
   ]
  },
  {
   "cell_type": "markdown",
   "metadata": {},
   "source": [
    "- Aucune ligne ne présente au moins une valeur vide."
   ]
  },
  {
   "cell_type": "markdown",
   "metadata": {},
   "source": [
    "#### 2 - Analyse de la colonne Prix\n",
    "Nous allons analyser la colonne Prix afin d'obtenir une meilleure compréhension de celle-ci."
   ]
  },
  {
   "cell_type": "code",
   "execution_count": 9,
   "metadata": {},
   "outputs": [
    {
     "data": {
      "text/plain": [
       "count    3287.000000\n",
       "mean       21.856641\n",
       "std        29.847908\n",
       "min        -1.000000\n",
       "25%         6.990000\n",
       "50%        13.060000\n",
       "75%        22.990000\n",
       "max       300.000000\n",
       "Name: price, dtype: float64"
      ]
     },
     "execution_count": 9,
     "metadata": {},
     "output_type": "execute_result"
    }
   ],
   "source": [
    "Produits.price.describe()"
   ]
  },
  {
   "cell_type": "markdown",
   "metadata": {},
   "source": [
    "- Le prix moyen des produits est de 22 euros.\n",
    "- Le prix median est de 13 euros.\n",
    "- Le produit le plus cher est de 300 euros.\n",
    "- Le produit le moins cher est de -1 euros.\n",
    "<br/>\n",
    "<br/> Nous allons analyser les produits ayant un prix négatif pour comprendre leurs origines."
   ]
  },
  {
   "cell_type": "code",
   "execution_count": 10,
   "metadata": {
    "scrolled": true
   },
   "outputs": [
    {
     "data": {
      "text/html": [
       "<div>\n",
       "<style scoped>\n",
       "    .dataframe tbody tr th:only-of-type {\n",
       "        vertical-align: middle;\n",
       "    }\n",
       "\n",
       "    .dataframe tbody tr th {\n",
       "        vertical-align: top;\n",
       "    }\n",
       "\n",
       "    .dataframe thead th {\n",
       "        text-align: right;\n",
       "    }\n",
       "</style>\n",
       "<table border=\"1\" class=\"dataframe\">\n",
       "  <thead>\n",
       "    <tr style=\"text-align: right;\">\n",
       "      <th></th>\n",
       "      <th>id_prod</th>\n",
       "      <th>price</th>\n",
       "      <th>categ</th>\n",
       "    </tr>\n",
       "  </thead>\n",
       "  <tbody>\n",
       "    <tr>\n",
       "      <th>731</th>\n",
       "      <td>T_0</td>\n",
       "      <td>-1.0</td>\n",
       "      <td>0</td>\n",
       "    </tr>\n",
       "  </tbody>\n",
       "</table>\n",
       "</div>"
      ],
      "text/plain": [
       "    id_prod  price  categ\n",
       "731     T_0   -1.0      0"
      ]
     },
     "execution_count": 10,
     "metadata": {},
     "output_type": "execute_result"
    }
   ],
   "source": [
    "ProduitsNégatif = Produits[Produits['price'] < 0]\n",
    "ProduitsNégatif"
   ]
  },
  {
   "cell_type": "markdown",
   "metadata": {},
   "source": [
    "L'ID Produit est incohérent, le prix est négatif. **Nous allons supprimer cette valeur aberrante**."
   ]
  },
  {
   "cell_type": "code",
   "execution_count": 11,
   "metadata": {},
   "outputs": [],
   "source": [
    "Produits = Produits[Produits['price'] > 0]"
   ]
  },
  {
   "cell_type": "markdown",
   "metadata": {},
   "source": [
    "#### 3 - Analyse de la colonne Catégorie\n",
    "Nous allons analyser la colonne Catégorie afin d'obtenir une meilleure compréhension de celle-ci."
   ]
  },
  {
   "cell_type": "code",
   "execution_count": 12,
   "metadata": {
    "scrolled": true
   },
   "outputs": [
    {
     "data": {
      "text/plain": [
       "count    3286.000000\n",
       "mean        0.370359\n",
       "std         0.615446\n",
       "min         0.000000\n",
       "25%         0.000000\n",
       "50%         0.000000\n",
       "75%         1.000000\n",
       "max         2.000000\n",
       "Name: categ, dtype: float64"
      ]
     },
     "execution_count": 12,
     "metadata": {},
     "output_type": "execute_result"
    }
   ],
   "source": [
    "Produits.categ.describe()"
   ]
  },
  {
   "cell_type": "markdown",
   "metadata": {},
   "source": [
    "- Le format de la colonne Catégorie n'est pas adéquat pour une variable qualitative.\n",
    "<br/> Nous allons la convertir en chaine de caractère.\n",
    "- La catégorie moyenne est de 0.37 pour une catégorie médiane à 0. Nous en concluons que la catégorie la plus réprésentée est la catégorie 0.\n",
    "- La plus grande catégorie est la 2 et la plus petite la 0.\n",
    "<br/>\n",
    "<br/> Nous allons également analyser le nombre de catégorie."
   ]
  },
  {
   "cell_type": "code",
   "execution_count": 13,
   "metadata": {},
   "outputs": [
    {
     "data": {
      "text/plain": [
       "array(['0', '1', '2'], dtype=object)"
      ]
     },
     "execution_count": 13,
     "metadata": {},
     "output_type": "execute_result"
    }
   ],
   "source": [
    "Produits.categ = Produits.categ.astype('str')\n",
    "Produits['categ'].unique()"
   ]
  },
  {
   "cell_type": "markdown",
   "metadata": {},
   "source": [
    "- Il existe 3 catégories : 0, 1 et 2 \n",
    "<br/>\n",
    "<br/> Nous allons maintenant analyser les catégories en fonction des prix de ventes à l'aide d'un diagramme en moustache."
   ]
  },
  {
   "cell_type": "code",
   "execution_count": 14,
   "metadata": {
    "scrolled": true
   },
   "outputs": [
    {
     "data": {
      "text/plain": [
       "Text(0.5, 1.0, 'Prix des produits par catégories')"
      ]
     },
     "execution_count": 14,
     "metadata": {},
     "output_type": "execute_result"
    },
    {
     "data": {
      "text/plain": [
       "<Figure size 216x2880 with 0 Axes>"
      ]
     },
     "metadata": {},
     "output_type": "display_data"
    },
    {
     "data": {
      "image/png": "[encoded data removed]",
      "text/plain": [
       "<Figure size 432x288 with 1 Axes>"
      ]
     },
     "metadata": {
      "needs_background": "light"
     },
     "output_type": "display_data"
    }
   ],
   "source": [
    "pp.figure(figsize=(3,40))\n",
    "Produits.boxplot(column=['price'], by=['categ'])\n",
    "pp.xlabel('Catégorie')\n",
    "pp.ylabel('Prix des produits')\n",
    "pp.title(\"Prix des produits par catégories\")"
   ]
  },
  {
   "cell_type": "markdown",
   "metadata": {},
   "source": [
    "- Les catégories semblent s'apparenter à différentes gammes de prix.\n",
    "- La catégorie la plus réprésentée dans le catalogue est la catégorie 0 qui est la catégorie la moins chère.\n",
    "- Les catégories 1 et 2 sont plus chères que la 0, la 2 étant la plus élevée."
   ]
  },
  {
   "cell_type": "markdown",
   "metadata": {},
   "source": [
    "#### 4 - Analyse de la colonne ID Produits"
   ]
  },
  {
   "cell_type": "code",
   "execution_count": 15,
   "metadata": {},
   "outputs": [
    {
     "data": {
      "text/html": [
       "<div>\n",
       "<style scoped>\n",
       "    .dataframe tbody tr th:only-of-type {\n",
       "        vertical-align: middle;\n",
       "    }\n",
       "\n",
       "    .dataframe tbody tr th {\n",
       "        vertical-align: top;\n",
       "    }\n",
       "\n",
       "    .dataframe thead th {\n",
       "        text-align: right;\n",
       "    }\n",
       "</style>\n",
       "<table border=\"1\" class=\"dataframe\">\n",
       "  <thead>\n",
       "    <tr style=\"text-align: right;\">\n",
       "      <th></th>\n",
       "      <th>id_prod</th>\n",
       "      <th>price</th>\n",
       "      <th>categ</th>\n",
       "    </tr>\n",
       "  </thead>\n",
       "  <tbody>\n",
       "    <tr>\n",
       "      <th>0</th>\n",
       "      <td>0_1421</td>\n",
       "      <td>19.99</td>\n",
       "      <td>0</td>\n",
       "    </tr>\n",
       "    <tr>\n",
       "      <th>1</th>\n",
       "      <td>0_1368</td>\n",
       "      <td>5.13</td>\n",
       "      <td>0</td>\n",
       "    </tr>\n",
       "    <tr>\n",
       "      <th>2</th>\n",
       "      <td>0_731</td>\n",
       "      <td>17.99</td>\n",
       "      <td>0</td>\n",
       "    </tr>\n",
       "  </tbody>\n",
       "</table>\n",
       "</div>"
      ],
      "text/plain": [
       "  id_prod  price categ\n",
       "0  0_1421  19.99     0\n",
       "1  0_1368   5.13     0\n",
       "2   0_731  17.99     0"
      ]
     },
     "execution_count": 15,
     "metadata": {},
     "output_type": "execute_result"
    }
   ],
   "source": [
    "Produits.head(3)"
   ]
  },
  {
   "cell_type": "markdown",
   "metadata": {},
   "source": [
    "Nous constatons sur les trois premières lignes ci-dessus que les premiers numéros de l'ID Produit correspond à la catégorie du même produit. Nous avons vérifié cela par un test de cohérence.\n",
    "<br/> Ce postulat n'était pas respecté avec le produit possédant un prix négatif. Il est pertinent de valider ce postulat."
   ]
  },
  {
   "cell_type": "code",
   "execution_count": 16,
   "metadata": {
    "scrolled": true
   },
   "outputs": [
    {
     "data": {
      "text/plain": [
       "array([ True])"
      ]
     },
     "execution_count": 16,
     "metadata": {},
     "output_type": "execute_result"
    }
   ],
   "source": [
    "Produits['LeftProduits'] = Produits['id_prod'].str[:1]\n",
    "Produits['Cohérence'] = (Produits['LeftProduits']==Produits['categ'])\n",
    "Produits['Cohérence'].unique()"
   ]
  },
  {
   "cell_type": "markdown",
   "metadata": {},
   "source": [
    "- Nous constatons que les ID Produits commencent bien tous par leur catégorie."
   ]
  },
  {
   "cell_type": "code",
   "execution_count": 17,
   "metadata": {},
   "outputs": [],
   "source": [
    "Produits.drop(columns = ['LeftProduits','Cohérence'], inplace = True)"
   ]
  },
  {
   "cell_type": "markdown",
   "metadata": {},
   "source": [
    "[Retour au Sommaire](#Sommaire)"
   ]
  },
  {
   "cell_type": "markdown",
   "metadata": {},
   "source": [
    "### B - Nettoyage du Dataframe Clients <a id=\"Titre2B\"></a>"
   ]
  },
  {
   "cell_type": "markdown",
   "metadata": {},
   "source": [
    "#### 1 - Compréhension du Dataframe"
   ]
  },
  {
   "cell_type": "markdown",
   "metadata": {},
   "source": [
    "Afin d'obtenir une meilleure compréhension de nos données, nous avons analysé chaque colonne pour en comprendre leur contenu."
   ]
  },
  {
   "cell_type": "code",
   "execution_count": 18,
   "metadata": {
    "scrolled": false
   },
   "outputs": [
    {
     "name": "stdout",
     "output_type": "stream",
     "text": [
      "<class 'pandas.core.frame.DataFrame'>\n",
      "RangeIndex: 8623 entries, 0 to 8622\n",
      "Data columns (total 3 columns):\n",
      " #   Column     Non-Null Count  Dtype \n",
      "---  ------     --------------  ----- \n",
      " 0   client_id  8623 non-null   object\n",
      " 1   sex        8623 non-null   object\n",
      " 2   birth      8623 non-null   int64 \n",
      "dtypes: int64(1), object(2)\n",
      "memory usage: 202.2+ KB\n"
     ]
    },
    {
     "data": {
      "text/html": [
       "<div>\n",
       "<style scoped>\n",
       "    .dataframe tbody tr th:only-of-type {\n",
       "        vertical-align: middle;\n",
       "    }\n",
       "\n",
       "    .dataframe tbody tr th {\n",
       "        vertical-align: top;\n",
       "    }\n",
       "\n",
       "    .dataframe thead th {\n",
       "        text-align: right;\n",
       "    }\n",
       "</style>\n",
       "<table border=\"1\" class=\"dataframe\">\n",
       "  <thead>\n",
       "    <tr style=\"text-align: right;\">\n",
       "      <th></th>\n",
       "      <th>client_id</th>\n",
       "      <th>sex</th>\n",
       "      <th>birth</th>\n",
       "    </tr>\n",
       "  </thead>\n",
       "  <tbody>\n",
       "    <tr>\n",
       "      <th>0</th>\n",
       "      <td>c_4410</td>\n",
       "      <td>f</td>\n",
       "      <td>1967</td>\n",
       "    </tr>\n",
       "    <tr>\n",
       "      <th>1</th>\n",
       "      <td>c_7839</td>\n",
       "      <td>f</td>\n",
       "      <td>1975</td>\n",
       "    </tr>\n",
       "    <tr>\n",
       "      <th>2</th>\n",
       "      <td>c_1699</td>\n",
       "      <td>f</td>\n",
       "      <td>1984</td>\n",
       "    </tr>\n",
       "  </tbody>\n",
       "</table>\n",
       "</div>"
      ],
      "text/plain": [
       "  client_id sex  birth\n",
       "0    c_4410   f   1967\n",
       "1    c_7839   f   1975\n",
       "2    c_1699   f   1984"
      ]
     },
     "execution_count": 18,
     "metadata": {},
     "output_type": "execute_result"
    }
   ],
   "source": [
    "Clients.info()\n",
    "Clients.head(3)"
   ]
  },
  {
   "cell_type": "markdown",
   "metadata": {},
   "source": [
    "- Chaque client possède un ID, un sexe et une année de naissance.\n",
    "- Les ID clients semblent commencer par c_.\n",
    "<br/>\n",
    "<br/> Nous allons convertir l'année de naissance en âge du client."
   ]
  },
  {
   "cell_type": "code",
   "execution_count": 19,
   "metadata": {
    "scrolled": true
   },
   "outputs": [
    {
     "data": {
      "text/html": [
       "<div>\n",
       "<style scoped>\n",
       "    .dataframe tbody tr th:only-of-type {\n",
       "        vertical-align: middle;\n",
       "    }\n",
       "\n",
       "    .dataframe tbody tr th {\n",
       "        vertical-align: top;\n",
       "    }\n",
       "\n",
       "    .dataframe thead th {\n",
       "        text-align: right;\n",
       "    }\n",
       "</style>\n",
       "<table border=\"1\" class=\"dataframe\">\n",
       "  <thead>\n",
       "    <tr style=\"text-align: right;\">\n",
       "      <th></th>\n",
       "      <th>client_id</th>\n",
       "      <th>sex</th>\n",
       "      <th>birth</th>\n",
       "    </tr>\n",
       "  </thead>\n",
       "  <tbody>\n",
       "  </tbody>\n",
       "</table>\n",
       "</div>"
      ],
      "text/plain": [
       "Empty DataFrame\n",
       "Columns: [client_id, sex, birth]\n",
       "Index: []"
      ]
     },
     "execution_count": 19,
     "metadata": {},
     "output_type": "execute_result"
    }
   ],
   "source": [
    "empty_val(Clients)"
   ]
  },
  {
   "cell_type": "markdown",
   "metadata": {},
   "source": [
    "- Aucune ligne ne présente au moins une valeur vide."
   ]
  },
  {
   "cell_type": "markdown",
   "metadata": {},
   "source": [
    "#### 2 - Analyse de la colonne Naissance/Age"
   ]
  },
  {
   "cell_type": "code",
   "execution_count": 20,
   "metadata": {},
   "outputs": [
    {
     "data": {
      "text/plain": [
       "count    8623.000000\n",
       "mean       43.719123\n",
       "std        16.919535\n",
       "min        18.000000\n",
       "25%        30.000000\n",
       "50%        43.000000\n",
       "75%        56.000000\n",
       "max        93.000000\n",
       "Name: age, dtype: float64"
      ]
     },
     "execution_count": 20,
     "metadata": {},
     "output_type": "execute_result"
    }
   ],
   "source": [
    "Clients['age'] = 2022 - Clients['birth']\n",
    "Clients.drop(columns = ['birth'], inplace = True)\n",
    "Clients.age.describe()"
   ]
  },
  {
   "cell_type": "markdown",
   "metadata": {},
   "source": [
    "- L'âge moyen des clients est de 44 ans.\n",
    "- L'âge médian des clients est de 43 ans.\n",
    "- Le client le moins agé a 18 ans.\n",
    "- Le client le plus agé a 93 ans.\n",
    "<br/>\n",
    "<br/> L'âge moyen et l'âge médian des client est assez proche. La distribution semble symétrique.\n",
    "<br/> Pour faciliter nos analyses futures, nous allons créer des catégories d'âge."
   ]
  },
  {
   "cell_type": "code",
   "execution_count": 21,
   "metadata": {
    "scrolled": false
   },
   "outputs": [
    {
     "name": "stderr",
     "output_type": "stream",
     "text": [
      "C:\\Users\\Thaad\\anaconda3bis\\lib\\site-packages\\ipykernel_launcher.py:3: SettingWithCopyWarning: \n",
      "A value is trying to be set on a copy of a slice from a DataFrame.\n",
      "Try using .loc[row_indexer,col_indexer] = value instead\n",
      "\n",
      "See the caveats in the documentation: https://pandas.pydata.org/pandas-docs/stable/user_guide/indexing.html#returning-a-view-versus-a-copy\n",
      "  This is separate from the ipykernel package so we can avoid doing imports until\n",
      "C:\\Users\\Thaad\\anaconda3bis\\lib\\site-packages\\ipykernel_launcher.py:8: SettingWithCopyWarning: \n",
      "A value is trying to be set on a copy of a slice from a DataFrame.\n",
      "Try using .loc[row_indexer,col_indexer] = value instead\n",
      "\n",
      "See the caveats in the documentation: https://pandas.pydata.org/pandas-docs/stable/user_guide/indexing.html#returning-a-view-versus-a-copy\n",
      "  \n",
      "C:\\Users\\Thaad\\anaconda3bis\\lib\\site-packages\\ipykernel_launcher.py:13: SettingWithCopyWarning: \n",
      "A value is trying to be set on a copy of a slice from a DataFrame.\n",
      "Try using .loc[row_indexer,col_indexer] = value instead\n",
      "\n",
      "See the caveats in the documentation: https://pandas.pydata.org/pandas-docs/stable/user_guide/indexing.html#returning-a-view-versus-a-copy\n",
      "  del sys.path[0]\n",
      "C:\\Users\\Thaad\\anaconda3bis\\lib\\site-packages\\ipykernel_launcher.py:18: SettingWithCopyWarning: \n",
      "A value is trying to be set on a copy of a slice from a DataFrame.\n",
      "Try using .loc[row_indexer,col_indexer] = value instead\n",
      "\n",
      "See the caveats in the documentation: https://pandas.pydata.org/pandas-docs/stable/user_guide/indexing.html#returning-a-view-versus-a-copy\n",
      "C:\\Users\\Thaad\\anaconda3bis\\lib\\site-packages\\ipykernel_launcher.py:23: SettingWithCopyWarning: \n",
      "A value is trying to be set on a copy of a slice from a DataFrame.\n",
      "Try using .loc[row_indexer,col_indexer] = value instead\n",
      "\n",
      "See the caveats in the documentation: https://pandas.pydata.org/pandas-docs/stable/user_guide/indexing.html#returning-a-view-versus-a-copy\n",
      "C:\\Users\\Thaad\\anaconda3bis\\lib\\site-packages\\ipykernel_launcher.py:27: SettingWithCopyWarning: \n",
      "A value is trying to be set on a copy of a slice from a DataFrame.\n",
      "Try using .loc[row_indexer,col_indexer] = value instead\n",
      "\n",
      "See the caveats in the documentation: https://pandas.pydata.org/pandas-docs/stable/user_guide/indexing.html#returning-a-view-versus-a-copy\n"
     ]
    }
   ],
   "source": [
    "age1 = Clients.copy()\n",
    "age1 = Clients[Clients['age']<31]\n",
    "age1[\"trancheage\"] = \"18-30 ans\"\n",
    "\n",
    "agebis = Clients[Clients['age']>30]\n",
    "age2 = agebis.copy()\n",
    "age2 = agebis[agebis['age']<44]\n",
    "age2[\"trancheage\"] = \"31-43 ans\"\n",
    "\n",
    "agebis = Clients[Clients['age']>43]\n",
    "age3 = agebis.copy()\n",
    "age3 = agebis[agebis['age']<57]\n",
    "age3[\"trancheage\"] = \"44-56 ans\"\n",
    "\n",
    "agebis = Clients[Clients['age']>56]\n",
    "age4 = agebis.copy()\n",
    "age4 = agebis[agebis['age']<70]\n",
    "age4[\"trancheage\"] = \"57-69 ans\"\n",
    "\n",
    "agebis = Clients[Clients['age']>69]\n",
    "age5 = agebis.copy()\n",
    "age5 = agebis[agebis['age']<83]\n",
    "age5[\"trancheage\"] = \"70-82 ans\"\n",
    "\n",
    "age6 = Clients.copy()\n",
    "age6 = Clients[Clients['age']>82]\n",
    "age6[\"trancheage\"] = \"83 ans et plus\""
   ]
  },
  {
   "cell_type": "code",
   "execution_count": 22,
   "metadata": {
    "scrolled": false
   },
   "outputs": [
    {
     "name": "stdout",
     "output_type": "stream",
     "text": [
      "<class 'pandas.core.frame.DataFrame'>\n",
      "Int64Index: 8623 entries, 5 to 8543\n",
      "Data columns (total 4 columns):\n",
      " #   Column      Non-Null Count  Dtype \n",
      "---  ------      --------------  ----- \n",
      " 0   client_id   8623 non-null   object\n",
      " 1   sex         8623 non-null   object\n",
      " 2   age         8623 non-null   int64 \n",
      " 3   trancheage  8623 non-null   object\n",
      "dtypes: int64(1), object(3)\n",
      "memory usage: 336.8+ KB\n"
     ]
    },
    {
     "data": {
      "text/html": [
       "<div>\n",
       "<style scoped>\n",
       "    .dataframe tbody tr th:only-of-type {\n",
       "        vertical-align: middle;\n",
       "    }\n",
       "\n",
       "    .dataframe tbody tr th {\n",
       "        vertical-align: top;\n",
       "    }\n",
       "\n",
       "    .dataframe thead th {\n",
       "        text-align: right;\n",
       "    }\n",
       "</style>\n",
       "<table border=\"1\" class=\"dataframe\">\n",
       "  <thead>\n",
       "    <tr style=\"text-align: right;\">\n",
       "      <th></th>\n",
       "      <th>client_id</th>\n",
       "      <th>sex</th>\n",
       "      <th>age</th>\n",
       "      <th>trancheage</th>\n",
       "    </tr>\n",
       "  </thead>\n",
       "  <tbody>\n",
       "    <tr>\n",
       "      <th>5</th>\n",
       "      <td>c_415</td>\n",
       "      <td>m</td>\n",
       "      <td>29</td>\n",
       "      <td>18-30 ans</td>\n",
       "    </tr>\n",
       "    <tr>\n",
       "      <th>9</th>\n",
       "      <td>c_6866</td>\n",
       "      <td>m</td>\n",
       "      <td>29</td>\n",
       "      <td>18-30 ans</td>\n",
       "    </tr>\n",
       "    <tr>\n",
       "      <th>13</th>\n",
       "      <td>c_2998</td>\n",
       "      <td>m</td>\n",
       "      <td>19</td>\n",
       "      <td>18-30 ans</td>\n",
       "    </tr>\n",
       "  </tbody>\n",
       "</table>\n",
       "</div>"
      ],
      "text/plain": [
       "   client_id sex  age trancheage\n",
       "5      c_415   m   29  18-30 ans\n",
       "9     c_6866   m   29  18-30 ans\n",
       "13    c_2998   m   19  18-30 ans"
      ]
     },
     "execution_count": 22,
     "metadata": {},
     "output_type": "execute_result"
    }
   ],
   "source": [
    "Clients=pd.concat([age1, age2, age3, age4, age5, age6])\n",
    "Clients.info()\n",
    "Clients.head(3)"
   ]
  },
  {
   "cell_type": "code",
   "execution_count": 23,
   "metadata": {},
   "outputs": [],
   "source": [
    "NombreClients = Clients.groupby(['trancheage'],as_index = True ).client_id.count()"
   ]
  },
  {
   "cell_type": "code",
   "execution_count": 24,
   "metadata": {
    "scrolled": false
   },
   "outputs": [
    {
     "data": {
      "text/plain": [
       "Text(0.5, 1.0, \"Nombre de clients par tranche d'âge\")"
      ]
     },
     "execution_count": 24,
     "metadata": {},
     "output_type": "execute_result"
    },
    {
     "data": {
      "image/png": "[encoded data removed]",
      "text/plain": [
       "<Figure size 432x288 with 1 Axes>"
      ]
     },
     "metadata": {
      "needs_background": "light"
     },
     "output_type": "display_data"
    }
   ],
   "source": [
    "NombreClients.plot(kind = 'bar')\n",
    "pp.xlabel('Tranche Age')\n",
    "pp.ylabel('Nombre de clients')\n",
    "pp.title(\"Nombre de clients par tranche d'âge\")"
   ]
  },
  {
   "cell_type": "markdown",
   "metadata": {},
   "source": [
    "- Le nombre de clients par tranches d'âge est assez stable jusqu'à 56 ans.\n",
    "- A partir de 56 ans, le nombre de clients décroit."
   ]
  },
  {
   "cell_type": "markdown",
   "metadata": {},
   "source": [
    "#### 3 - Analyse de la colonne Sexe"
   ]
  },
  {
   "cell_type": "markdown",
   "metadata": {},
   "source": [
    "Nous allons tout d'abord tester la composition de la colonne Sexe."
   ]
  },
  {
   "cell_type": "code",
   "execution_count": 25,
   "metadata": {
    "scrolled": true
   },
   "outputs": [
    {
     "data": {
      "text/plain": [
       "array(['m', 'f'], dtype=object)"
      ]
     },
     "execution_count": 25,
     "metadata": {},
     "output_type": "execute_result"
    }
   ],
   "source": [
    "Clients.sex.unique()"
   ]
  },
  {
   "cell_type": "markdown",
   "metadata": {},
   "source": [
    "Nos clients sont soit des hommes, soit des femmes. Nous allons analyser la répartition de ceux-ci en nombre."
   ]
  },
  {
   "cell_type": "code",
   "execution_count": 26,
   "metadata": {
    "scrolled": true
   },
   "outputs": [
    {
     "data": {
      "text/plain": [
       "Text(0.5, 1.0, 'Répartion H/F des clients')"
      ]
     },
     "execution_count": 26,
     "metadata": {},
     "output_type": "execute_result"
    },
    {
     "data": {
      "image/png": "[encoded data removed]",
      "text/plain": [
       "<Figure size 432x288 with 1 Axes>"
      ]
     },
     "metadata": {},
     "output_type": "display_data"
    }
   ],
   "source": [
    "pp.pie(Clients['sex'].value_counts(), labels = ['Femmes', 'Hommes'], autopct = '%1.1f%%')\n",
    "pp.title(\"Répartion H/F des clients\")"
   ]
  },
  {
   "cell_type": "markdown",
   "metadata": {},
   "source": [
    "- 52% de nos clients sont des femmes\n",
    "- 48% de nos clients sont des hommes\n",
    "<br/>\n",
    "<br/> Nous allons  affiner cette analyse en rajoutant comme dimension les tranches d'âge."
   ]
  },
  {
   "cell_type": "code",
   "execution_count": 27,
   "metadata": {},
   "outputs": [],
   "source": [
    "Trancheagesexe = Clients.groupby(['trancheage', 'sex'],as_index = True ).client_id.count()"
   ]
  },
  {
   "cell_type": "code",
   "execution_count": 28,
   "metadata": {
    "scrolled": true
   },
   "outputs": [
    {
     "data": {
      "text/plain": [
       "Text(0.5, 1.0, \"Nombre de clients par tranche d'age et par sexe\")"
      ]
     },
     "execution_count": 28,
     "metadata": {},
     "output_type": "execute_result"
    },
    {
     "data": {
      "image/png": "[encoded data removed]",
      "text/plain": [
       "<Figure size 432x288 with 1 Axes>"
      ]
     },
     "metadata": {
      "needs_background": "light"
     },
     "output_type": "display_data"
    }
   ],
   "source": [
    "Trancheagesexe.unstack().plot(kind = 'bar')\n",
    "pp.xlabel('Tranche Age')\n",
    "pp.ylabel('Nombre de clients')\n",
    "pp.title(\"Nombre de clients par tranche d'age et par sexe\")"
   ]
  },
  {
   "cell_type": "markdown",
   "metadata": {},
   "source": [
    "- Le sexe des clients est bien réparti au sein de chaque tranche d'âge."
   ]
  },
  {
   "cell_type": "markdown",
   "metadata": {},
   "source": [
    "#### 4 - Analyse de la colonne ID CLient"
   ]
  },
  {
   "cell_type": "code",
   "execution_count": 29,
   "metadata": {},
   "outputs": [
    {
     "data": {
      "text/html": [
       "<div>\n",
       "<style scoped>\n",
       "    .dataframe tbody tr th:only-of-type {\n",
       "        vertical-align: middle;\n",
       "    }\n",
       "\n",
       "    .dataframe tbody tr th {\n",
       "        vertical-align: top;\n",
       "    }\n",
       "\n",
       "    .dataframe thead th {\n",
       "        text-align: right;\n",
       "    }\n",
       "</style>\n",
       "<table border=\"1\" class=\"dataframe\">\n",
       "  <thead>\n",
       "    <tr style=\"text-align: right;\">\n",
       "      <th></th>\n",
       "      <th>client_id</th>\n",
       "      <th>sex</th>\n",
       "      <th>age</th>\n",
       "      <th>trancheage</th>\n",
       "    </tr>\n",
       "  </thead>\n",
       "  <tbody>\n",
       "    <tr>\n",
       "      <th>5</th>\n",
       "      <td>c_415</td>\n",
       "      <td>m</td>\n",
       "      <td>29</td>\n",
       "      <td>18-30 ans</td>\n",
       "    </tr>\n",
       "    <tr>\n",
       "      <th>9</th>\n",
       "      <td>c_6866</td>\n",
       "      <td>m</td>\n",
       "      <td>29</td>\n",
       "      <td>18-30 ans</td>\n",
       "    </tr>\n",
       "    <tr>\n",
       "      <th>13</th>\n",
       "      <td>c_2998</td>\n",
       "      <td>m</td>\n",
       "      <td>19</td>\n",
       "      <td>18-30 ans</td>\n",
       "    </tr>\n",
       "  </tbody>\n",
       "</table>\n",
       "</div>"
      ],
      "text/plain": [
       "   client_id sex  age trancheage\n",
       "5      c_415   m   29  18-30 ans\n",
       "9     c_6866   m   29  18-30 ans\n",
       "13    c_2998   m   19  18-30 ans"
      ]
     },
     "execution_count": 29,
     "metadata": {},
     "output_type": "execute_result"
    }
   ],
   "source": [
    "Clients.head(3)"
   ]
  },
  {
   "cell_type": "markdown",
   "metadata": {},
   "source": [
    "Les ID Clients semblent débuter par c_, nous allons investiguer pour savoir si certains éléments semblent aberrants."
   ]
  },
  {
   "cell_type": "code",
   "execution_count": 30,
   "metadata": {
    "scrolled": true
   },
   "outputs": [
    {
     "data": {
      "text/plain": [
       "array(['c_', 'ct'], dtype=object)"
      ]
     },
     "execution_count": 30,
     "metadata": {},
     "output_type": "execute_result"
    }
   ],
   "source": [
    "Clients['client_id'].str[:2].unique()"
   ]
  },
  {
   "cell_type": "markdown",
   "metadata": {},
   "source": [
    "Il existe des ID CLients commençant par ct, nous allons investiguer ceux-ci afin de définir si ce sont des anomalies ou non."
   ]
  },
  {
   "cell_type": "code",
   "execution_count": 31,
   "metadata": {
    "scrolled": true
   },
   "outputs": [
    {
     "data": {
      "text/html": [
       "<div>\n",
       "<style scoped>\n",
       "    .dataframe tbody tr th:only-of-type {\n",
       "        vertical-align: middle;\n",
       "    }\n",
       "\n",
       "    .dataframe tbody tr th {\n",
       "        vertical-align: top;\n",
       "    }\n",
       "\n",
       "    .dataframe thead th {\n",
       "        text-align: right;\n",
       "    }\n",
       "</style>\n",
       "<table border=\"1\" class=\"dataframe\">\n",
       "  <thead>\n",
       "    <tr style=\"text-align: right;\">\n",
       "      <th></th>\n",
       "      <th>client_id</th>\n",
       "      <th>sex</th>\n",
       "      <th>age</th>\n",
       "      <th>trancheage</th>\n",
       "    </tr>\n",
       "  </thead>\n",
       "  <tbody>\n",
       "    <tr>\n",
       "      <th>2735</th>\n",
       "      <td>ct_0</td>\n",
       "      <td>f</td>\n",
       "      <td>21</td>\n",
       "      <td>18-30 ans</td>\n",
       "    </tr>\n",
       "    <tr>\n",
       "      <th>8494</th>\n",
       "      <td>ct_1</td>\n",
       "      <td>m</td>\n",
       "      <td>21</td>\n",
       "      <td>18-30 ans</td>\n",
       "    </tr>\n",
       "  </tbody>\n",
       "</table>\n",
       "</div>"
      ],
      "text/plain": [
       "     client_id sex  age trancheage\n",
       "2735      ct_0   f   21  18-30 ans\n",
       "8494      ct_1   m   21  18-30 ans"
      ]
     },
     "execution_count": 31,
     "metadata": {},
     "output_type": "execute_result"
    }
   ],
   "source": [
    "Clientsct = Clients[Clients['client_id'].str[:2] == 'ct']\n",
    "Clientsct"
   ]
  },
  {
   "cell_type": "markdown",
   "metadata": {},
   "source": [
    "Ces deux clients semblent correctement complétés, **nous choississons de les conserver**."
   ]
  },
  {
   "cell_type": "markdown",
   "metadata": {},
   "source": [
    "[Retour au Sommaire](#Sommaire)"
   ]
  },
  {
   "cell_type": "markdown",
   "metadata": {},
   "source": [
    "### C - Nettoyage du Dataframe Transaction <a id=\"Titre2C\"></a>"
   ]
  },
  {
   "cell_type": "markdown",
   "metadata": {},
   "source": [
    "#### 1 - Compréhension du Dataframe"
   ]
  },
  {
   "cell_type": "markdown",
   "metadata": {},
   "source": [
    "Afin d'obtenir une meilleure compréhension de nos données, nous avons analysé chaque colonne pour en comprendre leur contenu."
   ]
  },
  {
   "cell_type": "code",
   "execution_count": 32,
   "metadata": {
    "scrolled": false
   },
   "outputs": [
    {
     "name": "stdout",
     "output_type": "stream",
     "text": [
      "<class 'pandas.core.frame.DataFrame'>\n",
      "RangeIndex: 337016 entries, 0 to 337015\n",
      "Data columns (total 4 columns):\n",
      " #   Column      Non-Null Count   Dtype \n",
      "---  ------      --------------   ----- \n",
      " 0   id_prod     337016 non-null  object\n",
      " 1   date        337016 non-null  object\n",
      " 2   session_id  337016 non-null  object\n",
      " 3   client_id   337016 non-null  object\n",
      "dtypes: object(4)\n",
      "memory usage: 10.3+ MB\n"
     ]
    },
    {
     "data": {
      "text/html": [
       "<div>\n",
       "<style scoped>\n",
       "    .dataframe tbody tr th:only-of-type {\n",
       "        vertical-align: middle;\n",
       "    }\n",
       "\n",
       "    .dataframe tbody tr th {\n",
       "        vertical-align: top;\n",
       "    }\n",
       "\n",
       "    .dataframe thead th {\n",
       "        text-align: right;\n",
       "    }\n",
       "</style>\n",
       "<table border=\"1\" class=\"dataframe\">\n",
       "  <thead>\n",
       "    <tr style=\"text-align: right;\">\n",
       "      <th></th>\n",
       "      <th>id_prod</th>\n",
       "      <th>date</th>\n",
       "      <th>session_id</th>\n",
       "      <th>client_id</th>\n",
       "    </tr>\n",
       "  </thead>\n",
       "  <tbody>\n",
       "    <tr>\n",
       "      <th>0</th>\n",
       "      <td>0_1483</td>\n",
       "      <td>2021-04-10 18:37:28.723910</td>\n",
       "      <td>s_18746</td>\n",
       "      <td>c_4450</td>\n",
       "    </tr>\n",
       "    <tr>\n",
       "      <th>1</th>\n",
       "      <td>2_226</td>\n",
       "      <td>2022-02-03 01:55:53.276402</td>\n",
       "      <td>s_159142</td>\n",
       "      <td>c_277</td>\n",
       "    </tr>\n",
       "    <tr>\n",
       "      <th>2</th>\n",
       "      <td>1_374</td>\n",
       "      <td>2021-09-23 15:13:46.938559</td>\n",
       "      <td>s_94290</td>\n",
       "      <td>c_4270</td>\n",
       "    </tr>\n",
       "  </tbody>\n",
       "</table>\n",
       "</div>"
      ],
      "text/plain": [
       "  id_prod                        date session_id client_id\n",
       "0  0_1483  2021-04-10 18:37:28.723910    s_18746    c_4450\n",
       "1   2_226  2022-02-03 01:55:53.276402   s_159142     c_277\n",
       "2   1_374  2021-09-23 15:13:46.938559    s_94290    c_4270"
      ]
     },
     "execution_count": 32,
     "metadata": {},
     "output_type": "execute_result"
    }
   ],
   "source": [
    "Transactions.info()\n",
    "Transactions.head(3)"
   ]
  },
  {
   "cell_type": "markdown",
   "metadata": {},
   "source": [
    "- Chaque transaction possède un ID, un produit, une date et un client lié.\n",
    "- Les ID clients semblent commencer par 0_, 1_ ou 2_ comme vu précedemment dans notre analyse du DF Produits.\n",
    "- Les ID produits semblent commencer par c_ comme vu précedemment dans notre analyse du DF Clients.\n",
    "- Les ID sessions semblent commencer par s_.\n",
    "<br/>\n",
    "<br/> Le format de la date semble difficillement exploitable."
   ]
  },
  {
   "cell_type": "code",
   "execution_count": 33,
   "metadata": {
    "scrolled": true
   },
   "outputs": [
    {
     "data": {
      "text/html": [
       "<div>\n",
       "<style scoped>\n",
       "    .dataframe tbody tr th:only-of-type {\n",
       "        vertical-align: middle;\n",
       "    }\n",
       "\n",
       "    .dataframe tbody tr th {\n",
       "        vertical-align: top;\n",
       "    }\n",
       "\n",
       "    .dataframe thead th {\n",
       "        text-align: right;\n",
       "    }\n",
       "</style>\n",
       "<table border=\"1\" class=\"dataframe\">\n",
       "  <thead>\n",
       "    <tr style=\"text-align: right;\">\n",
       "      <th></th>\n",
       "      <th>id_prod</th>\n",
       "      <th>date</th>\n",
       "      <th>session_id</th>\n",
       "      <th>client_id</th>\n",
       "    </tr>\n",
       "  </thead>\n",
       "  <tbody>\n",
       "  </tbody>\n",
       "</table>\n",
       "</div>"
      ],
      "text/plain": [
       "Empty DataFrame\n",
       "Columns: [id_prod, date, session_id, client_id]\n",
       "Index: []"
      ]
     },
     "execution_count": 33,
     "metadata": {},
     "output_type": "execute_result"
    }
   ],
   "source": [
    "empty_val(Transactions)"
   ]
  },
  {
   "cell_type": "markdown",
   "metadata": {},
   "source": [
    "- Aucune ligne ne présente au moins une valeur vide"
   ]
  },
  {
   "cell_type": "markdown",
   "metadata": {},
   "source": [
    "#### 2 - Analyse de la colonne ID CLient"
   ]
  },
  {
   "cell_type": "code",
   "execution_count": 34,
   "metadata": {
    "scrolled": true
   },
   "outputs": [
    {
     "data": {
      "text/plain": [
       "array(['c_', 'ct'], dtype=object)"
      ]
     },
     "execution_count": 34,
     "metadata": {},
     "output_type": "execute_result"
    }
   ],
   "source": [
    "Transactions['client_id'].str[:2].unique()"
   ]
  },
  {
   "cell_type": "markdown",
   "metadata": {},
   "source": [
    "Il existe des ID Clients commençant par ct, nous allons investiguer ceux-ci afin de définir si ce sont des anomalies ou non."
   ]
  },
  {
   "cell_type": "code",
   "execution_count": 35,
   "metadata": {
    "scrolled": true
   },
   "outputs": [
    {
     "data": {
      "text/html": [
       "<div>\n",
       "<style scoped>\n",
       "    .dataframe tbody tr th:only-of-type {\n",
       "        vertical-align: middle;\n",
       "    }\n",
       "\n",
       "    .dataframe tbody tr th {\n",
       "        vertical-align: top;\n",
       "    }\n",
       "\n",
       "    .dataframe thead th {\n",
       "        text-align: right;\n",
       "    }\n",
       "</style>\n",
       "<table border=\"1\" class=\"dataframe\">\n",
       "  <thead>\n",
       "    <tr style=\"text-align: right;\">\n",
       "      <th></th>\n",
       "      <th>id_prod</th>\n",
       "      <th>date</th>\n",
       "      <th>session_id</th>\n",
       "      <th>client_id</th>\n",
       "    </tr>\n",
       "  </thead>\n",
       "  <tbody>\n",
       "    <tr>\n",
       "      <th>count</th>\n",
       "      <td>200</td>\n",
       "      <td>200</td>\n",
       "      <td>200</td>\n",
       "      <td>200</td>\n",
       "    </tr>\n",
       "    <tr>\n",
       "      <th>unique</th>\n",
       "      <td>1</td>\n",
       "      <td>39</td>\n",
       "      <td>1</td>\n",
       "      <td>2</td>\n",
       "    </tr>\n",
       "    <tr>\n",
       "      <th>top</th>\n",
       "      <td>T_0</td>\n",
       "      <td>test_2021-03-01 02:30:02.237413</td>\n",
       "      <td>s_0</td>\n",
       "      <td>ct_0</td>\n",
       "    </tr>\n",
       "    <tr>\n",
       "      <th>freq</th>\n",
       "      <td>200</td>\n",
       "      <td>13</td>\n",
       "      <td>200</td>\n",
       "      <td>106</td>\n",
       "    </tr>\n",
       "  </tbody>\n",
       "</table>\n",
       "</div>"
      ],
      "text/plain": [
       "       id_prod                             date session_id client_id\n",
       "count      200                              200        200       200\n",
       "unique       1                               39          1         2\n",
       "top        T_0  test_2021-03-01 02:30:02.237413        s_0      ct_0\n",
       "freq       200                               13        200       106"
      ]
     },
     "execution_count": 35,
     "metadata": {},
     "output_type": "execute_result"
    }
   ],
   "source": [
    "Transactionsct = Transactions[Transactions['client_id'].str[:2] == 'ct']\n",
    "Transactionsct.describe()"
   ]
  },
  {
   "cell_type": "code",
   "execution_count": 36,
   "metadata": {},
   "outputs": [
    {
     "data": {
      "text/html": [
       "<div>\n",
       "<style scoped>\n",
       "    .dataframe tbody tr th:only-of-type {\n",
       "        vertical-align: middle;\n",
       "    }\n",
       "\n",
       "    .dataframe tbody tr th {\n",
       "        vertical-align: top;\n",
       "    }\n",
       "\n",
       "    .dataframe thead th {\n",
       "        text-align: right;\n",
       "    }\n",
       "</style>\n",
       "<table border=\"1\" class=\"dataframe\">\n",
       "  <thead>\n",
       "    <tr style=\"text-align: right;\">\n",
       "      <th></th>\n",
       "      <th>id_prod</th>\n",
       "      <th>date</th>\n",
       "      <th>session_id</th>\n",
       "      <th>client_id</th>\n",
       "    </tr>\n",
       "  </thead>\n",
       "  <tbody>\n",
       "    <tr>\n",
       "      <th>1431</th>\n",
       "      <td>T_0</td>\n",
       "      <td>test_2021-03-01 02:30:02.237420</td>\n",
       "      <td>s_0</td>\n",
       "      <td>ct_1</td>\n",
       "    </tr>\n",
       "    <tr>\n",
       "      <th>2365</th>\n",
       "      <td>T_0</td>\n",
       "      <td>test_2021-03-01 02:30:02.237446</td>\n",
       "      <td>s_0</td>\n",
       "      <td>ct_1</td>\n",
       "    </tr>\n",
       "    <tr>\n",
       "      <th>2895</th>\n",
       "      <td>T_0</td>\n",
       "      <td>test_2021-03-01 02:30:02.237414</td>\n",
       "      <td>s_0</td>\n",
       "      <td>ct_1</td>\n",
       "    </tr>\n",
       "  </tbody>\n",
       "</table>\n",
       "</div>"
      ],
      "text/plain": [
       "     id_prod                             date session_id client_id\n",
       "1431     T_0  test_2021-03-01 02:30:02.237420        s_0      ct_1\n",
       "2365     T_0  test_2021-03-01 02:30:02.237446        s_0      ct_1\n",
       "2895     T_0  test_2021-03-01 02:30:02.237414        s_0      ct_1"
      ]
     },
     "execution_count": 36,
     "metadata": {},
     "output_type": "execute_result"
    }
   ],
   "source": [
    "Transactionsct.head(3)"
   ]
  },
  {
   "cell_type": "markdown",
   "metadata": {},
   "source": [
    "- 200 ID clients débutent par ct (Il n'en existe que 2 comme vu plus haut dans le DF CLients à savoir ct_0 et ct_0).\n",
    "- Ces opérations possèdent le même ID Session : s_0.\n",
    "- L'unique ID Produit de ces opérations est le T_0 qui était notre produit ayant pour prix : -1 qui a été supprimé plus haut.\n",
    "- La date débute par test.\n",
    "<br/>\n",
    "<br/>Ces valeurs sont des valeurs aberrantes, **nous choississons de les supprimer**.\n",
    "<br/>Par souci de cohérence vu qu'aucune de ces valeurs ne sera présente dans le DF Transactions, nous allons également supprimer ces deux ID clients du DF CLients."
   ]
  },
  {
   "cell_type": "code",
   "execution_count": 37,
   "metadata": {
    "scrolled": false
   },
   "outputs": [],
   "source": [
    "Transactions = Transactions[Transactions['client_id'].str[:2] == 'c_']\n",
    "Clients = Clients[Clients['client_id'].str[:2] == 'c_']"
   ]
  },
  {
   "cell_type": "markdown",
   "metadata": {},
   "source": [
    "#### 3 - Analyse de la colonne ID Session"
   ]
  },
  {
   "cell_type": "code",
   "execution_count": 38,
   "metadata": {
    "scrolled": true
   },
   "outputs": [
    {
     "data": {
      "text/plain": [
       "array(['s_'], dtype=object)"
      ]
     },
     "execution_count": 38,
     "metadata": {},
     "output_type": "execute_result"
    }
   ],
   "source": [
    "Transactions['session_id'].str[:2].unique()"
   ]
  },
  {
   "cell_type": "markdown",
   "metadata": {},
   "source": [
    "-Tous les ID sessions débutent bien par s_"
   ]
  },
  {
   "cell_type": "markdown",
   "metadata": {},
   "source": [
    "#### 4 - Analyse de la colonne ID Produit"
   ]
  },
  {
   "cell_type": "code",
   "execution_count": 39,
   "metadata": {
    "scrolled": true
   },
   "outputs": [
    {
     "data": {
      "text/plain": [
       "array(['0_', '2_', '1_'], dtype=object)"
      ]
     },
     "execution_count": 39,
     "metadata": {},
     "output_type": "execute_result"
    }
   ],
   "source": [
    "Transactions['id_prod'].str[:2].unique()"
   ]
  },
  {
   "cell_type": "markdown",
   "metadata": {},
   "source": [
    "-Tous les ID sessions dévutent bien par 0_, 1_ ou 2_."
   ]
  },
  {
   "cell_type": "markdown",
   "metadata": {},
   "source": [
    "#### 5 - Analyse de la colonne Date"
   ]
  },
  {
   "cell_type": "markdown",
   "metadata": {},
   "source": [
    "Le format de la date n'est pas exploitable, nous allons le retraiter et créer une colonne Mois."
   ]
  },
  {
   "cell_type": "code",
   "execution_count": 40,
   "metadata": {},
   "outputs": [],
   "source": [
    "Transactions['date']= pd.to_datetime(Transactions['date'], format='%Y/%m/%d')\n",
    "Transactions['date'] = Transactions['date'].map(lambda x:x.strftime('%Y-%m-%d'))\n",
    "Transactions['date']= pd.to_datetime(Transactions['date'], format='%Y/%m/%d')\n",
    "Transactions['Mois']=Transactions['date'].map(lambda x:x.strftime('%m'))"
   ]
  },
  {
   "cell_type": "code",
   "execution_count": 41,
   "metadata": {
    "scrolled": false
   },
   "outputs": [
    {
     "data": {
      "text/plain": [
       "id_prod               object\n",
       "date          datetime64[ns]\n",
       "session_id            object\n",
       "client_id             object\n",
       "Mois                  object\n",
       "dtype: object"
      ]
     },
     "execution_count": 41,
     "metadata": {},
     "output_type": "execute_result"
    }
   ],
   "source": [
    "Transactions.dtypes"
   ]
  },
  {
   "cell_type": "code",
   "execution_count": 42,
   "metadata": {
    "scrolled": false
   },
   "outputs": [
    {
     "data": {
      "text/html": [
       "<div>\n",
       "<style scoped>\n",
       "    .dataframe tbody tr th:only-of-type {\n",
       "        vertical-align: middle;\n",
       "    }\n",
       "\n",
       "    .dataframe tbody tr th {\n",
       "        vertical-align: top;\n",
       "    }\n",
       "\n",
       "    .dataframe thead th {\n",
       "        text-align: right;\n",
       "    }\n",
       "</style>\n",
       "<table border=\"1\" class=\"dataframe\">\n",
       "  <thead>\n",
       "    <tr style=\"text-align: right;\">\n",
       "      <th></th>\n",
       "      <th>id_prod</th>\n",
       "      <th>date</th>\n",
       "      <th>session_id</th>\n",
       "      <th>client_id</th>\n",
       "      <th>Mois</th>\n",
       "    </tr>\n",
       "  </thead>\n",
       "  <tbody>\n",
       "    <tr>\n",
       "      <th>0</th>\n",
       "      <td>0_1483</td>\n",
       "      <td>2021-04-10</td>\n",
       "      <td>s_18746</td>\n",
       "      <td>c_4450</td>\n",
       "      <td>04</td>\n",
       "    </tr>\n",
       "    <tr>\n",
       "      <th>1</th>\n",
       "      <td>2_226</td>\n",
       "      <td>2022-02-03</td>\n",
       "      <td>s_159142</td>\n",
       "      <td>c_277</td>\n",
       "      <td>02</td>\n",
       "    </tr>\n",
       "    <tr>\n",
       "      <th>2</th>\n",
       "      <td>1_374</td>\n",
       "      <td>2021-09-23</td>\n",
       "      <td>s_94290</td>\n",
       "      <td>c_4270</td>\n",
       "      <td>09</td>\n",
       "    </tr>\n",
       "  </tbody>\n",
       "</table>\n",
       "</div>"
      ],
      "text/plain": [
       "  id_prod       date session_id client_id Mois\n",
       "0  0_1483 2021-04-10    s_18746    c_4450   04\n",
       "1   2_226 2022-02-03   s_159142     c_277   02\n",
       "2   1_374 2021-09-23    s_94290    c_4270   09"
      ]
     },
     "execution_count": 42,
     "metadata": {},
     "output_type": "execute_result"
    }
   ],
   "source": [
    "Transactions.head(3)"
   ]
  },
  {
   "cell_type": "markdown",
   "metadata": {},
   "source": [
    "La date est désormais exploitable dans nos analyses."
   ]
  },
  {
   "cell_type": "markdown",
   "metadata": {},
   "source": [
    "[Retour au Sommaire](#Sommaire)"
   ]
  },
  {
   "cell_type": "markdown",
   "metadata": {},
   "source": [
    "## II - Compilation des données et analyses <a id=\"Titre3\"></a>\n",
    "Après avoir compilé nos trois Dataframes, nous allons les analyser pour mieux comprendre l'activité de \"Rester Livres\"."
   ]
  },
  {
   "cell_type": "markdown",
   "metadata": {},
   "source": [
    "### A - Compilation des DataFrames <a id=\"Titre3A\"></a>"
   ]
  },
  {
   "cell_type": "markdown",
   "metadata": {},
   "source": [
    "#### 1 - Compilation"
   ]
  },
  {
   "cell_type": "code",
   "execution_count": 43,
   "metadata": {},
   "outputs": [
    {
     "name": "stdout",
     "output_type": "stream",
     "text": [
      "<class 'pandas.core.frame.DataFrame'>\n",
      "Int64Index: 336816 entries, 0 to 337015\n",
      "Data columns (total 5 columns):\n",
      " #   Column      Non-Null Count   Dtype         \n",
      "---  ------      --------------   -----         \n",
      " 0   id_prod     336816 non-null  object        \n",
      " 1   date        336816 non-null  datetime64[ns]\n",
      " 2   session_id  336816 non-null  object        \n",
      " 3   client_id   336816 non-null  object        \n",
      " 4   Mois        336816 non-null  object        \n",
      "dtypes: datetime64[ns](1), object(4)\n",
      "memory usage: 15.4+ MB\n"
     ]
    }
   ],
   "source": [
    "Transactions.info()"
   ]
  },
  {
   "cell_type": "markdown",
   "metadata": {},
   "source": [
    "Nous avons un total de 336 816 transactions sur la période.\n",
    "<br/> En compilant nos données nous allons :\n",
    "- Obtenir un Dataframe récapitulatif de toutes nos transactions ayant un ID client et un ID produit reconnu.\n",
    "- Obtenir un Dataframe incluant toutes les transactions avec un ID produit/ID client non reconnu.\n",
    "- Connaitre les produits qui ne se sont pas vendus sur la période.\n",
    "- Connaitre les clients qui n'ont pas acheté de produits sur la période."
   ]
  },
  {
   "cell_type": "code",
   "execution_count": 44,
   "metadata": {},
   "outputs": [],
   "source": [
    "Concat1 = pd.merge(Transactions, Clients, on = 'client_id', how = 'inner') \n",
    "Compil = pd.merge (Concat1,Produits,on = 'id_prod', how = 'inner')"
   ]
  },
  {
   "cell_type": "code",
   "execution_count": 45,
   "metadata": {},
   "outputs": [
    {
     "data": {
      "text/html": [
       "<div>\n",
       "<style scoped>\n",
       "    .dataframe tbody tr th:only-of-type {\n",
       "        vertical-align: middle;\n",
       "    }\n",
       "\n",
       "    .dataframe tbody tr th {\n",
       "        vertical-align: top;\n",
       "    }\n",
       "\n",
       "    .dataframe thead th {\n",
       "        text-align: right;\n",
       "    }\n",
       "</style>\n",
       "<table border=\"1\" class=\"dataframe\">\n",
       "  <thead>\n",
       "    <tr style=\"text-align: right;\">\n",
       "      <th></th>\n",
       "      <th>id_prod</th>\n",
       "      <th>date</th>\n",
       "      <th>session_id</th>\n",
       "      <th>client_id</th>\n",
       "      <th>Mois</th>\n",
       "      <th>sex</th>\n",
       "      <th>age</th>\n",
       "      <th>trancheage</th>\n",
       "      <th>price</th>\n",
       "      <th>categ</th>\n",
       "    </tr>\n",
       "  </thead>\n",
       "  <tbody>\n",
       "    <tr>\n",
       "      <th>0</th>\n",
       "      <td>0_1483</td>\n",
       "      <td>2021-04-10</td>\n",
       "      <td>s_18746</td>\n",
       "      <td>c_4450</td>\n",
       "      <td>04</td>\n",
       "      <td>f</td>\n",
       "      <td>45</td>\n",
       "      <td>44-56 ans</td>\n",
       "      <td>4.99</td>\n",
       "      <td>0</td>\n",
       "    </tr>\n",
       "    <tr>\n",
       "      <th>1</th>\n",
       "      <td>0_1483</td>\n",
       "      <td>2021-12-27</td>\n",
       "      <td>s_140787</td>\n",
       "      <td>c_5433</td>\n",
       "      <td>12</td>\n",
       "      <td>f</td>\n",
       "      <td>41</td>\n",
       "      <td>31-43 ans</td>\n",
       "      <td>4.99</td>\n",
       "      <td>0</td>\n",
       "    </tr>\n",
       "    <tr>\n",
       "      <th>2</th>\n",
       "      <td>0_1483</td>\n",
       "      <td>2021-10-27</td>\n",
       "      <td>s_110736</td>\n",
       "      <td>c_857</td>\n",
       "      <td>10</td>\n",
       "      <td>m</td>\n",
       "      <td>37</td>\n",
       "      <td>31-43 ans</td>\n",
       "      <td>4.99</td>\n",
       "      <td>0</td>\n",
       "    </tr>\n",
       "  </tbody>\n",
       "</table>\n",
       "</div>"
      ],
      "text/plain": [
       "  id_prod       date session_id client_id Mois sex  age trancheage  price  \\\n",
       "0  0_1483 2021-04-10    s_18746    c_4450   04   f   45  44-56 ans   4.99   \n",
       "1  0_1483 2021-12-27   s_140787    c_5433   12   f   41  31-43 ans   4.99   \n",
       "2  0_1483 2021-10-27   s_110736     c_857   10   m   37  31-43 ans   4.99   \n",
       "\n",
       "  categ  \n",
       "0     0  \n",
       "1     0  \n",
       "2     0  "
      ]
     },
     "execution_count": 45,
     "metadata": {},
     "output_type": "execute_result"
    }
   ],
   "source": [
    "Compil.head(3)"
   ]
  },
  {
   "cell_type": "code",
   "execution_count": 46,
   "metadata": {
    "scrolled": true
   },
   "outputs": [
    {
     "name": "stdout",
     "output_type": "stream",
     "text": [
      "<class 'pandas.core.frame.DataFrame'>\n",
      "Int64Index: 336713 entries, 0 to 336712\n",
      "Data columns (total 10 columns):\n",
      " #   Column      Non-Null Count   Dtype         \n",
      "---  ------      --------------   -----         \n",
      " 0   id_prod     336713 non-null  object        \n",
      " 1   date        336713 non-null  datetime64[ns]\n",
      " 2   session_id  336713 non-null  object        \n",
      " 3   client_id   336713 non-null  object        \n",
      " 4   Mois        336713 non-null  object        \n",
      " 5   sex         336713 non-null  object        \n",
      " 6   age         336713 non-null  int64         \n",
      " 7   trancheage  336713 non-null  object        \n",
      " 8   price       336713 non-null  float64       \n",
      " 9   categ       336713 non-null  object        \n",
      "dtypes: datetime64[ns](1), float64(1), int64(1), object(7)\n",
      "memory usage: 28.3+ MB\n"
     ]
    }
   ],
   "source": [
    "Compil.info()"
   ]
  },
  {
   "cell_type": "markdown",
   "metadata": {},
   "source": [
    "Nous comprenons que 103 transactions ne possèdent pas un ID client ou produit reconnu dans notre base de données.\n",
    "Nous allons investiguer. Nous commençons à investiguer les codes produits non reconnus."
   ]
  },
  {
   "cell_type": "markdown",
   "metadata": {},
   "source": [
    "#### 2 - ID produit/client non reconnu"
   ]
  },
  {
   "cell_type": "code",
   "execution_count": 47,
   "metadata": {},
   "outputs": [],
   "source": [
    "TransactionsP = pd.merge (Transactions,Produits,on = 'id_prod', how = 'left')\n",
    "TransactionsP = TransactionsP[pd.isnull(TransactionsP['categ'])]"
   ]
  },
  {
   "cell_type": "code",
   "execution_count": 48,
   "metadata": {
    "scrolled": true
   },
   "outputs": [
    {
     "name": "stdout",
     "output_type": "stream",
     "text": [
      "<class 'pandas.core.frame.DataFrame'>\n",
      "Int64Index: 103 entries, 6231 to 336020\n",
      "Data columns (total 7 columns):\n",
      " #   Column      Non-Null Count  Dtype         \n",
      "---  ------      --------------  -----         \n",
      " 0   id_prod     103 non-null    object        \n",
      " 1   date        103 non-null    datetime64[ns]\n",
      " 2   session_id  103 non-null    object        \n",
      " 3   client_id   103 non-null    object        \n",
      " 4   Mois        103 non-null    object        \n",
      " 5   price       0 non-null      float64       \n",
      " 6   categ       0 non-null      object        \n",
      "dtypes: datetime64[ns](1), float64(1), object(5)\n",
      "memory usage: 6.4+ KB\n"
     ]
    }
   ],
   "source": [
    "TransactionsP.info()"
   ]
  },
  {
   "cell_type": "markdown",
   "metadata": {},
   "source": [
    "Nous avons retrouvé nos 103 transactions qui ont été retirées de notre Dataframe lors de la compilation. Nous étudions les produits qui sont concernés."
   ]
  },
  {
   "cell_type": "code",
   "execution_count": 49,
   "metadata": {},
   "outputs": [
    {
     "data": {
      "text/plain": [
       "array(['0_2245'], dtype=object)"
      ]
     },
     "execution_count": 49,
     "metadata": {},
     "output_type": "execute_result"
    }
   ],
   "source": [
    "TransactionsP.id_prod.unique()"
   ]
  },
  {
   "cell_type": "markdown",
   "metadata": {},
   "source": [
    "Il s'agit du produit 0_2245. Le prix moyen de la catégorie 0 est de 10-15 euros soit un impact de 1500 euros sur les ventes totales. Nous supprimons ce produit de notre Dataframe car sa valeur est peu significative.\n",
    "Par déduction, aucun ID client non reconnu."
   ]
  },
  {
   "cell_type": "markdown",
   "metadata": {},
   "source": [
    "#### 3 - Produits non vendus sur l'année"
   ]
  },
  {
   "cell_type": "code",
   "execution_count": 50,
   "metadata": {},
   "outputs": [],
   "source": [
    "ProduitsNV = pd.merge (Transactions,Produits,on = 'id_prod', how = 'right')\n",
    "ProduitsNV = ProduitsNV[pd.isnull(ProduitsNV['session_id'])]"
   ]
  },
  {
   "cell_type": "code",
   "execution_count": 51,
   "metadata": {
    "scrolled": true
   },
   "outputs": [
    {
     "data": {
      "text/html": [
       "<div>\n",
       "<style scoped>\n",
       "    .dataframe tbody tr th:only-of-type {\n",
       "        vertical-align: middle;\n",
       "    }\n",
       "\n",
       "    .dataframe tbody tr th {\n",
       "        vertical-align: top;\n",
       "    }\n",
       "\n",
       "    .dataframe thead th {\n",
       "        text-align: right;\n",
       "    }\n",
       "</style>\n",
       "<table border=\"1\" class=\"dataframe\">\n",
       "  <thead>\n",
       "    <tr style=\"text-align: right;\">\n",
       "      <th></th>\n",
       "      <th>price</th>\n",
       "    </tr>\n",
       "  </thead>\n",
       "  <tbody>\n",
       "    <tr>\n",
       "      <th>count</th>\n",
       "      <td>22.000000</td>\n",
       "    </tr>\n",
       "    <tr>\n",
       "      <th>mean</th>\n",
       "      <td>36.285000</td>\n",
       "    </tr>\n",
       "    <tr>\n",
       "      <th>std</th>\n",
       "      <td>55.753603</td>\n",
       "    </tr>\n",
       "    <tr>\n",
       "      <th>min</th>\n",
       "      <td>0.800000</td>\n",
       "    </tr>\n",
       "    <tr>\n",
       "      <th>25%</th>\n",
       "      <td>2.990000</td>\n",
       "    </tr>\n",
       "    <tr>\n",
       "      <th>50%</th>\n",
       "      <td>21.485000</td>\n",
       "    </tr>\n",
       "    <tr>\n",
       "      <th>75%</th>\n",
       "      <td>30.112500</td>\n",
       "    </tr>\n",
       "    <tr>\n",
       "      <th>max</th>\n",
       "      <td>220.990000</td>\n",
       "    </tr>\n",
       "  </tbody>\n",
       "</table>\n",
       "</div>"
      ],
      "text/plain": [
       "            price\n",
       "count   22.000000\n",
       "mean    36.285000\n",
       "std     55.753603\n",
       "min      0.800000\n",
       "25%      2.990000\n",
       "50%     21.485000\n",
       "75%     30.112500\n",
       "max    220.990000"
      ]
     },
     "execution_count": 51,
     "metadata": {},
     "output_type": "execute_result"
    }
   ],
   "source": [
    "ProduitsNV.describe()"
   ]
  },
  {
   "cell_type": "markdown",
   "metadata": {},
   "source": [
    "Il existe 22 produits qui n'ont pas été vendus sur l'année. Nous analysons ensuite à quelle catégorie ils appartiennent."
   ]
  },
  {
   "cell_type": "code",
   "execution_count": 52,
   "metadata": {
    "scrolled": true
   },
   "outputs": [
    {
     "data": {
      "text/plain": [
       "Text(0.5, 1.0, 'Nombre de produits invendu par catégorie')"
      ]
     },
     "execution_count": 52,
     "metadata": {},
     "output_type": "execute_result"
    },
    {
     "data": {
      "image/png": "[encoded data removed]",
      "text/plain": [
       "<Figure size 432x288 with 1 Axes>"
      ]
     },
     "metadata": {
      "needs_background": "light"
     },
     "output_type": "display_data"
    }
   ],
   "source": [
    "ProduitsNV = ProduitsNV.groupby(['categ'],as_index = True ).id_prod.count()\n",
    "ProduitsNV.plot(kind = 'bar')\n",
    "pp.xlabel('Catégorie')\n",
    "pp.ylabel('Nombre de produits')\n",
    "pp.title(\"Nombre de produits invendu par catégorie\")"
   ]
  },
  {
   "cell_type": "markdown",
   "metadata": {},
   "source": [
    "- Ce sont principalement des produits de la catégorie 0 qui sont invendus sur la période.\n",
    "- Il convient de supprimer ces produits de notre DF Produits s'ils ne sont plus en vente.\n",
    "- Nous pourrions lancer des campagnes publicitaires sur ces produits invendus."
   ]
  },
  {
   "cell_type": "markdown",
   "metadata": {},
   "source": [
    "#### 4 - Clients qui n'ont pas achetés de produits sur l'année"
   ]
  },
  {
   "cell_type": "code",
   "execution_count": 53,
   "metadata": {},
   "outputs": [],
   "source": [
    "ClientsPA = pd.merge (Transactions,Clients,on = 'client_id', how = 'right')\n",
    "ClientsPA = ClientsPA[pd.isnull(ClientsPA['session_id'])]"
   ]
  },
  {
   "cell_type": "code",
   "execution_count": 54,
   "metadata": {
    "scrolled": true
   },
   "outputs": [
    {
     "name": "stdout",
     "output_type": "stream",
     "text": [
      "<class 'pandas.core.frame.DataFrame'>\n",
      "Int64Index: 21 entries, 336816 to 336836\n",
      "Data columns (total 8 columns):\n",
      " #   Column      Non-Null Count  Dtype         \n",
      "---  ------      --------------  -----         \n",
      " 0   id_prod     0 non-null      object        \n",
      " 1   date        0 non-null      datetime64[ns]\n",
      " 2   session_id  0 non-null      object        \n",
      " 3   client_id   21 non-null     object        \n",
      " 4   Mois        0 non-null      object        \n",
      " 5   sex         21 non-null     object        \n",
      " 6   age         21 non-null     int64         \n",
      " 7   trancheage  21 non-null     object        \n",
      "dtypes: datetime64[ns](1), int64(1), object(6)\n",
      "memory usage: 1.5+ KB\n"
     ]
    }
   ],
   "source": [
    "ClientsPA.info()"
   ]
  },
  {
   "cell_type": "markdown",
   "metadata": {},
   "source": [
    "Il existe 21 clients qui n'ont pas acheté sur l'année. Nous analysons ensuite à quelle tranche d'âge ils appartiennent."
   ]
  },
  {
   "cell_type": "code",
   "execution_count": 55,
   "metadata": {
    "scrolled": true
   },
   "outputs": [
    {
     "data": {
      "text/plain": [
       "Text(0.5, 1.0, \"Nombre de clients qui n'ont pas acheté sur l'année par tranche d'âge\")"
      ]
     },
     "execution_count": 55,
     "metadata": {},
     "output_type": "execute_result"
    },
    {
     "data": {
      "image/png": "[encoded data removed]",
      "text/plain": [
       "<Figure size 432x288 with 1 Axes>"
      ]
     },
     "metadata": {
      "needs_background": "light"
     },
     "output_type": "display_data"
    }
   ],
   "source": [
    "ClientsPA = ClientsPA.groupby(['trancheage'],as_index = True ).client_id.count()\n",
    "ClientsPA.plot(kind = 'bar')\n",
    "pp.xlabel('Tranche Age')\n",
    "pp.ylabel('Nombre de clients')\n",
    "pp.title(\"Nombre de clients qui n'ont pas acheté sur l'année par tranche d'âge\")"
   ]
  },
  {
   "cell_type": "markdown",
   "metadata": {},
   "source": [
    "- Il conviendrait d'enquêter auprès des clients entre 18 et 30 ans des raisons qui les ont poussés à ne pas renouveler leurs achats afin de tenter de fidéliser cette tranche d'âge.\n",
    "- Les tranches d'âge entre 44 et 69 ans sont celles où le nombre de clients commence à décroitre, nous pourrions chercher à comprendre ce qui motive cette tendance."
   ]
  },
  {
   "cell_type": "markdown",
   "metadata": {},
   "source": [
    "[Retour au Sommaire](#Sommaire)"
   ]
  },
  {
   "cell_type": "markdown",
   "metadata": {},
   "source": [
    "### B - Analyse du Dataframe compilé <a id=\"Titre3B\"></a>"
   ]
  },
  {
   "cell_type": "code",
   "execution_count": 56,
   "metadata": {
    "scrolled": true
   },
   "outputs": [
    {
     "data": {
      "text/plain": [
       "5796577.77"
      ]
     },
     "execution_count": 56,
     "metadata": {},
     "output_type": "execute_result"
    }
   ],
   "source": [
    "Compil.price.sum()"
   ]
  },
  {
   "cell_type": "markdown",
   "metadata": {},
   "source": [
    "Le chiffre d'affaire sur la période est de 5 796 577.77 euros. Mais comment se décompose-t-il ?"
   ]
  },
  {
   "cell_type": "markdown",
   "metadata": {},
   "source": [
    "#### 1 - Revue des ventes par genre sur la période"
   ]
  },
  {
   "cell_type": "markdown",
   "metadata": {},
   "source": [
    "Nous allons analyser les ventes sur la période par genre."
   ]
  },
  {
   "cell_type": "code",
   "execution_count": 57,
   "metadata": {
    "scrolled": false
   },
   "outputs": [
    {
     "data": {
      "text/plain": [
       "Text(0.5, 1.0, \"Evolution du chiffre d'affaire par jour par genre\")"
      ]
     },
     "execution_count": 57,
     "metadata": {},
     "output_type": "execute_result"
    },
    {
     "data": {
      "image/png": "[encoded data removed]",
      "text/plain": [
       "<Figure size 432x288 with 1 Axes>"
      ]
     },
     "metadata": {
      "needs_background": "light"
     },
     "output_type": "display_data"
    }
   ],
   "source": [
    "CA_jour = Compil.groupby(['date', 'sex']).price.sum()\n",
    "CA_jour.unstack().plot(kind = 'line')\n",
    "pp.xlabel('Jours')\n",
    "pp.ylabel(\"Chiffre d'affaire\")\n",
    "pp.title(\"Evolution du chiffre d'affaire par jour par genre\")"
   ]
  },
  {
   "cell_type": "markdown",
   "metadata": {},
   "source": [
    "- Les montants sur le mois d'octobre semble étonnant, nous allons investiguer le nombre de ventes sur la période pour affiner nos conclusions.\n",
    "- Pas de saisonnalité mise en évidence à la lecture de ce graphique hormis une lègère hausse des ventes en février. Nous n'avons pas assez de périodes à analyser pour conclure sur une hausse des ventes récurrente sur le mois de fin de période.\n",
    "- Nous constatons une tendance à la hausse sur la période analysée (Il serait préférable d'analyser plus de périodes pour conclure sur une croissance)."
   ]
  },
  {
   "cell_type": "code",
   "execution_count": 58,
   "metadata": {
    "scrolled": true
   },
   "outputs": [
    {
     "data": {
      "text/plain": [
       "Text(0.5, 1.0, 'Evolution du nombre de ventes par jour par genre')"
      ]
     },
     "execution_count": 58,
     "metadata": {},
     "output_type": "execute_result"
    },
    {
     "data": {
      "image/png": "[encoded data removed]",
      "text/plain": [
       "<Figure size 432x288 with 1 Axes>"
      ]
     },
     "metadata": {
      "needs_background": "light"
     },
     "output_type": "display_data"
    }
   ],
   "source": [
    "CA_jour = Compil.groupby(['date', 'sex']).price.count()\n",
    "CA_jour.unstack().plot(kind = 'line')\n",
    "pp.xlabel('Jours')\n",
    "pp.ylabel(\"Nombre de ventes\")\n",
    "pp.title(\"Evolution du nombre de ventes par jour par genre\")"
   ]
  },
  {
   "cell_type": "markdown",
   "metadata": {},
   "source": [
    "- Le creux au mois d'octobre se confirme sur les quantités vendues également. Le pic de vente au mois de septembre pourrait expliquer qu'en octobre le nombre de vente soit plus faible.\n",
    "- En excluant le mois d'octobre, nous avons plus vendu lors de la seconde moitié de période que lors de la première. Cela nous conforte dans le fait qu'il y a eu une croissance sur la période. Néanmoins, ces fortes ventes semblent toucher des produits de catégorie 1 ou 2."
   ]
  },
  {
   "cell_type": "markdown",
   "metadata": {},
   "source": [
    "#### 2 - Revue des ventes par Catégorie sur la période"
   ]
  },
  {
   "cell_type": "markdown",
   "metadata": {},
   "source": [
    "Nous allons analyser les ventes sur la périodes par Catégorie."
   ]
  },
  {
   "cell_type": "code",
   "execution_count": 59,
   "metadata": {
    "scrolled": false
   },
   "outputs": [
    {
     "data": {
      "text/plain": [
       "Text(0.5, 1.0, \"Evolution du chiffre d'affaires par jour par catégorie\")"
      ]
     },
     "execution_count": 59,
     "metadata": {},
     "output_type": "execute_result"
    },
    {
     "data": {
      "image/png": "[encoded data removed]",
      "text/plain": [
       "<Figure size 432x288 with 1 Axes>"
      ]
     },
     "metadata": {
      "needs_background": "light"
     },
     "output_type": "display_data"
    }
   ],
   "source": [
    "CA_categ = Compil.groupby(['date','categ']).price.sum()\n",
    "CA_categ.unstack().plot(kind = 'line')\n",
    "pp.xlabel('Jours')\n",
    "pp.ylabel(\"Chiffre d'affaire\")\n",
    "pp.title(\"Evolution du chiffre d'affaires par jour par catégorie\")"
   ]
  },
  {
   "cell_type": "markdown",
   "metadata": {},
   "source": [
    "- La croissance que nous constatons sur la seconde période est soutenue par les ventes de la catégorie 1 en hausse en moitié de seconde période.\n",
    "- Il y a eu une diminution des ventes de la catégorie 2 sur cette même période, néanmoins l'activité a repris en fin d'année pour revenir à un niveau plus standard.\n",
    "- Le pic de vente en quantité du mois de septembre provient des ventes de la catégorie 0. Cette période est peut-être un moment propice à la promotion pour ce produit. A noter que cette hausse est tombée au même moment que la diminution des ventes de la catégorie 2 plus chère. Y a-t-il des clients qui ont migré sur une offre moins chère en septembre ?\n",
    "<br/>\n",
    "<br/>Comme pour la précédente analyse nous allons étudier le volume de vente en quantité par catégorie pour obtenir un autre axe de lecture."
   ]
  },
  {
   "cell_type": "code",
   "execution_count": 60,
   "metadata": {
    "scrolled": true
   },
   "outputs": [
    {
     "data": {
      "text/plain": [
       "Text(0.5, 1.0, 'Evolution du nombre de ventes par jour par catégorie')"
      ]
     },
     "execution_count": 60,
     "metadata": {},
     "output_type": "execute_result"
    },
    {
     "data": {
      "image/png": "[encoded data removed]",
      "text/plain": [
       "<Figure size 432x288 with 1 Axes>"
      ]
     },
     "metadata": {
      "needs_background": "light"
     },
     "output_type": "display_data"
    }
   ],
   "source": [
    "CA_categ = Compil.groupby(['date','categ']).price.count()\n",
    "CA_categ.unstack().plot(kind = 'line')\n",
    "pp.xlabel('Jours')\n",
    "pp.ylabel(\"Nombre de ventes\")\n",
    "pp.title(\"Evolution du nombre de ventes par jour par catégorie\")"
   ]
  },
  {
   "cell_type": "markdown",
   "metadata": {},
   "source": [
    "- Nous constatons une elasticité Prix unitaire/Volume positive. En effet, plus un produit fait partie d'une gamme de prix élevés, moins il est vendu.\n",
    "- Le pic de vente de septembre ne semble pas provenir d'un changement dans le comportement des acheteurs de la catégorie 2 qui seraient passé sur une offre moins chère.\n",
    "- Il existe un trou dans les ventes sur le mois d'octobre 2021 sur la catégorie 1. Nous allons investiguer la période exacte en cause et la supprimer pour ne pas fausser nos analyses de corrélations futures."
   ]
  },
  {
   "cell_type": "code",
   "execution_count": 61,
   "metadata": {
    "scrolled": true
   },
   "outputs": [
    {
     "data": {
      "text/html": [
       "<div>\n",
       "<style scoped>\n",
       "    .dataframe tbody tr th:only-of-type {\n",
       "        vertical-align: middle;\n",
       "    }\n",
       "\n",
       "    .dataframe tbody tr th {\n",
       "        vertical-align: top;\n",
       "    }\n",
       "\n",
       "    .dataframe thead th {\n",
       "        text-align: right;\n",
       "    }\n",
       "</style>\n",
       "<table border=\"1\" class=\"dataframe\">\n",
       "  <thead>\n",
       "    <tr style=\"text-align: right;\">\n",
       "      <th></th>\n",
       "      <th>categ</th>\n",
       "      <th>Mois</th>\n",
       "      <th>date</th>\n",
       "      <th>price</th>\n",
       "    </tr>\n",
       "  </thead>\n",
       "  <tbody>\n",
       "    <tr>\n",
       "      <th>638</th>\n",
       "      <td>1</td>\n",
       "      <td>10</td>\n",
       "      <td>2021-10-01</td>\n",
       "      <td>7003.79</td>\n",
       "    </tr>\n",
       "    <tr>\n",
       "      <th>639</th>\n",
       "      <td>1</td>\n",
       "      <td>10</td>\n",
       "      <td>2021-10-28</td>\n",
       "      <td>6317.99</td>\n",
       "    </tr>\n",
       "    <tr>\n",
       "      <th>640</th>\n",
       "      <td>1</td>\n",
       "      <td>10</td>\n",
       "      <td>2021-10-29</td>\n",
       "      <td>6425.18</td>\n",
       "    </tr>\n",
       "    <tr>\n",
       "      <th>641</th>\n",
       "      <td>1</td>\n",
       "      <td>10</td>\n",
       "      <td>2021-10-30</td>\n",
       "      <td>6753.69</td>\n",
       "    </tr>\n",
       "    <tr>\n",
       "      <th>642</th>\n",
       "      <td>1</td>\n",
       "      <td>10</td>\n",
       "      <td>2021-10-31</td>\n",
       "      <td>7261.67</td>\n",
       "    </tr>\n",
       "  </tbody>\n",
       "</table>\n",
       "</div>"
      ],
      "text/plain": [
       "    categ Mois       date    price\n",
       "638     1   10 2021-10-01  7003.79\n",
       "639     1   10 2021-10-28  6317.99\n",
       "640     1   10 2021-10-29  6425.18\n",
       "641     1   10 2021-10-30  6753.69\n",
       "642     1   10 2021-10-31  7261.67"
      ]
     },
     "execution_count": 61,
     "metadata": {},
     "output_type": "execute_result"
    }
   ],
   "source": [
    "Octobre1 = Compil.groupby(['categ','Mois', 'date'],as_index = False ).price.sum()\n",
    "Octobre1 = Octobre1[Octobre1['Mois'] == '10']\n",
    "Octobre1 = Octobre1[Octobre1['categ'] == '1']\n",
    "Octobre1"
   ]
  },
  {
   "cell_type": "markdown",
   "metadata": {},
   "source": [
    "Nous n'avons dans notre DF aucune vente pour la catégorie 1 entre le 02/10/2021 et le 27/10/2021. **Nous choisissons de supprimer le mois d'octobre de notre analyse**."
   ]
  },
  {
   "cell_type": "code",
   "execution_count": 62,
   "metadata": {},
   "outputs": [],
   "source": [
    "Base = Compil[Compil['Mois'] != '10']"
   ]
  },
  {
   "cell_type": "markdown",
   "metadata": {},
   "source": [
    "#### 3 - Revue des ventes par tranche d'âge"
   ]
  },
  {
   "cell_type": "markdown",
   "metadata": {},
   "source": [
    "Nous allons analyser les ventes sur la périodes par genre."
   ]
  },
  {
   "cell_type": "code",
   "execution_count": 63,
   "metadata": {
    "scrolled": true
   },
   "outputs": [
    {
     "data": {
      "text/plain": [
       "Text(0.5, 1.0, \"Evolution du chiffre d'affaire par tranche d'âge\")"
      ]
     },
     "execution_count": 63,
     "metadata": {},
     "output_type": "execute_result"
    },
    {
     "data": {
      "image/png": "[encoded data removed]",
      "text/plain": [
       "<Figure size 432x288 with 1 Axes>"
      ]
     },
     "metadata": {
      "needs_background": "light"
     },
     "output_type": "display_data"
    }
   ],
   "source": [
    "CA_jour = Base.groupby(['trancheage']).price.sum()\n",
    "CA_jour.plot(kind = 'bar')\n",
    "pp.xlabel(\"Tranche d'âge\")\n",
    "pp.ylabel(\"Chiffre d'affaire\")\n",
    "pp.title(\"Evolution du chiffre d'affaire par tranche d'âge\")"
   ]
  },
  {
   "cell_type": "code",
   "execution_count": 64,
   "metadata": {
    "scrolled": true
   },
   "outputs": [
    {
     "data": {
      "text/plain": [
       "Text(0.5, 1.0, \"Evolution du nombre de ventes par tranche d'âge\")"
      ]
     },
     "execution_count": 64,
     "metadata": {},
     "output_type": "execute_result"
    },
    {
     "data": {
      "image/png": "[encoded data removed]",
      "text/plain": [
       "<Figure size 432x288 with 1 Axes>"
      ]
     },
     "metadata": {
      "needs_background": "light"
     },
     "output_type": "display_data"
    }
   ],
   "source": [
    "CA_jour = Base.groupby(['trancheage']).price.count()\n",
    "CA_jour.plot(kind = 'bar')\n",
    "pp.xlabel(\"Tranche d'âge\")\n",
    "pp.ylabel(\"Nombre de ventes\")\n",
    "pp.title(\"Evolution du nombre de ventes par tranche d'âge\")"
   ]
  },
  {
   "cell_type": "markdown",
   "metadata": {},
   "source": [
    "- Le montant des ventes le plus élevé en chiffre d'affaire est celui de la tranche d'âge 31-43 ans, il en est de même en volume.\n",
    "- La tranche d'âge 18-30 ans participe grandement au chiffre d'affaire annuel mais n'achète que très peu d'unités en volume. Nous pouvons présumer que cette catégorie achète des produits plus chers, à priori des produits de catégorie 2."
   ]
  },
  {
   "cell_type": "markdown",
   "metadata": {},
   "source": [
    "[Retour au Sommaire](#Sommaire)"
   ]
  },
  {
   "cell_type": "markdown",
   "metadata": {},
   "source": [
    "### C - Courbe de Lorenz et indice de Gini <a id=\"Titre3C\"></a>"
   ]
  },
  {
   "cell_type": "markdown",
   "metadata": {},
   "source": [
    "Nous allons analyser les ventes par client. Pour ce faire nous allons utiliser une courbe de Lorenz afin de nous indiquer la place qu'occupent les plus gros et plus petits clients."
   ]
  },
  {
   "cell_type": "code",
   "execution_count": 65,
   "metadata": {
    "scrolled": true
   },
   "outputs": [
    {
     "data": {
      "image/png": "[encoded data removed]",
      "text/plain": [
       "<Figure size 432x288 with 1 Axes>"
      ]
     },
     "metadata": {
      "needs_background": "light"
     },
     "output_type": "display_data"
    }
   ],
   "source": [
    "Vt = Base.groupby(['client_id']).price.sum()\n",
    "n = len(Vt)\n",
    "lorenz = np.cumsum(np.sort(Vt)) / Vt.sum()\n",
    "lorenz = np.append([0],lorenz) \n",
    "bins = np.linspace(0.0,1.0)\n",
    "xaxis = np.linspace(0,1, len(lorenz)) \n",
    "pp.plot(xaxis,lorenz)\n",
    "pp.plot(bins,bins,'--')\n",
    "pp.show()"
   ]
  },
  {
   "cell_type": "code",
   "execution_count": 66,
   "metadata": {},
   "outputs": [
    {
     "data": {
      "text/plain": [
       "0.44044416160208444"
      ]
     },
     "execution_count": 66,
     "metadata": {},
     "output_type": "execute_result"
    }
   ],
   "source": [
    "AUC = (lorenz.sum() -lorenz[-1]/2 -lorenz[0]/2)/n  \n",
    "S = 0.5 - AUC \n",
    "gini = 2*S\n",
    "gini"
   ]
  },
  {
   "cell_type": "markdown",
   "metadata": {},
   "source": [
    "- Les 20% des clients qui achètent le moins pèsent pour moins de 10% dans le revenu global de la période.\n",
    "- Les 20% des clients qui achètent le plus pèsent pour plus de 40% dans le revenu global de la période.\n",
    "- L'indice de Gini est un indicateur d'égalité. Il est compris entre 0 et 1. Plus il est proche de 0, plus la population est répartie équitablement. Un indice de Gini de 0.44 démontre une répartition des ventes totales par client inégale.\n",
    "<br/>\n",
    "<br/> Nous allons analyser le top 10 des clients sur la période pour contrôler s'il y a des clients VIP."
   ]
  },
  {
   "cell_type": "code",
   "execution_count": 67,
   "metadata": {
    "scrolled": true
   },
   "outputs": [
    {
     "name": "stdout",
     "output_type": "stream",
     "text": [
      "[  2313.54   2332.08   2346.34   2366.2    2406.17   2424.5   52720.68\n",
      "  69382.17 137151.48 150729.07]\n"
     ]
    }
   ],
   "source": [
    "Vta = np.sort(Vt)\n",
    "print (Vta[np.argsort(Vta)[-10:]])"
   ]
  },
  {
   "cell_type": "code",
   "execution_count": 68,
   "metadata": {
    "scrolled": true
   },
   "outputs": [
    {
     "data": {
      "text/html": [
       "<div>\n",
       "<style scoped>\n",
       "    .dataframe tbody tr th:only-of-type {\n",
       "        vertical-align: middle;\n",
       "    }\n",
       "\n",
       "    .dataframe tbody tr th {\n",
       "        vertical-align: top;\n",
       "    }\n",
       "\n",
       "    .dataframe thead th {\n",
       "        text-align: right;\n",
       "    }\n",
       "</style>\n",
       "<table border=\"1\" class=\"dataframe\">\n",
       "  <thead>\n",
       "    <tr style=\"text-align: right;\">\n",
       "      <th></th>\n",
       "      <th>client_id</th>\n",
       "      <th>price</th>\n",
       "    </tr>\n",
       "  </thead>\n",
       "  <tbody>\n",
       "    <tr>\n",
       "      <th>677</th>\n",
       "      <td>c_1609</td>\n",
       "      <td>150729.07</td>\n",
       "    </tr>\n",
       "    <tr>\n",
       "      <th>2723</th>\n",
       "      <td>c_3454</td>\n",
       "      <td>52720.68</td>\n",
       "    </tr>\n",
       "    <tr>\n",
       "      <th>4387</th>\n",
       "      <td>c_4958</td>\n",
       "      <td>137151.48</td>\n",
       "    </tr>\n",
       "    <tr>\n",
       "      <th>6336</th>\n",
       "      <td>c_6714</td>\n",
       "      <td>69382.17</td>\n",
       "    </tr>\n",
       "  </tbody>\n",
       "</table>\n",
       "</div>"
      ],
      "text/plain": [
       "     client_id      price\n",
       "677     c_1609  150729.07\n",
       "2723    c_3454   52720.68\n",
       "4387    c_4958  137151.48\n",
       "6336    c_6714   69382.17"
      ]
     },
     "execution_count": 68,
     "metadata": {},
     "output_type": "execute_result"
    }
   ],
   "source": [
    "TopClient = Base.groupby(['client_id'],as_index = False ).price.sum()\n",
    "TopClient = TopClient[TopClient['price'] > 50000]\n",
    "TopClient.head()"
   ]
  },
  {
   "cell_type": "markdown",
   "metadata": {},
   "source": [
    "Nous constatons que 4 clients ressortent comme étant importants :\n",
    "- c_1609 pour 150 729 euros d'achat\n",
    "- c_4958 pour 137 151 euros d'achat\n",
    "- c_6714 pour 69 382 euros d'achat\n",
    "- c_3454 pour 52 720 euros d'achat\n",
    "<br/>\n",
    "<br/> Ces clients composent 7% du CA de la période (400 000 / 5 800 00)."
   ]
  },
  {
   "cell_type": "markdown",
   "metadata": {},
   "source": [
    "[Retour au Sommaire](#Sommaire)"
   ]
  },
  {
   "cell_type": "markdown",
   "metadata": {},
   "source": [
    "## III - Corrélations <a id=\"Titre4\"></a>\n",
    "Nous allons maintenant analyser s'il y a des corrélations entre les différentes variables de notre Dataframe."
   ]
  },
  {
   "cell_type": "markdown",
   "metadata": {},
   "source": [
    "### A - 2 variables qualitatives : Test du KHIDEUX <a id=\"Titre4A\"></a>\n",
    "\n",
    "Etudier une corrélation entre deux variables qualitatives revient donc à comparer les  nij  avec les fi×nj . Les nij , ce sont les nombres qui sont dans le tableau de contingence (en dehors des colonnes TOTAL). On doit donc créer un autre tableau qui aurait la même forme que le tableau de contingence, mais qui contiendrait plutôt les fi×nj : la table indep. Le test de KHIDEUX revient à comparer ces deux tableaux.\n",
    "La manière la plus visuelle de présenter les résultats de préparer une carte de chaleur ou tableau des effectifs colorés."
   ]
  },
  {
   "cell_type": "markdown",
   "metadata": {},
   "source": [
    "#### 1 - Y a-t-il une corrélation entre le sexe des clients et les catégories de produits achetés ?"
   ]
  },
  {
   "cell_type": "code",
   "execution_count": 69,
   "metadata": {
    "scrolled": false
   },
   "outputs": [
    {
     "data": {
      "image/png": "[encoded data removed]",
      "text/plain": [
       "<Figure size 432x288 with 2 Axes>"
      ]
     },
     "metadata": {
      "needs_background": "light"
     },
     "output_type": "display_data"
    }
   ],
   "source": [
    "X = \"sex\"\n",
    "Y = \"categ\"\n",
    "\n",
    "cont = Base[[X,Y]].pivot_table(index=X,columns=Y,aggfunc=len,margins=True,margins_name=\"Total\") \n",
    "tx = cont.loc[:,[\"Total\"]]\n",
    "ty = cont.loc[[\"Total\"],:]\n",
    "n = len(Base)\n",
    "indep = tx.dot(ty) / n\n",
    "c = cont.fillna(0)\n",
    "measure = (c-indep)**2/indep\n",
    "xi_n = measure.sum().sum()\n",
    "table = measure/xi_n\n",
    "sb.heatmap(table.iloc[:-1,:-1],annot=c.iloc[:-1,:-1])\n",
    "pp.show()"
   ]
  },
  {
   "cell_type": "markdown",
   "metadata": {},
   "source": [
    "Nous constatons que :\n",
    "- La répartiton h/f est quasi parfaite pour la catégorie 0;\n",
    "- La corrélation entre le sexe et les catégories sont légèrement moindres pour les catégories 1 et 2. Pour la catégorie 1, cette différence n'est pas flagrante mais les femmes qui achètent légèrement moins de produits au total que les hommes achètent plus de produits issus de cette catégorie. Pour la catégorie 2, il existe une légère tendance en faveur des hommes.\n",
    "<br/n> En effet, ils achètent sensiblement plus que les femmes mais ce n'est pas suffisant pour dire qu'il y a une corrélation entre la catégorie 2 et les hommes."
   ]
  },
  {
   "cell_type": "markdown",
   "metadata": {},
   "source": [
    "#### 2 - Y a-t-il une corrélation entre l'âge des clients et les catégories de produits achetés ?\n",
    "\n",
    "Pour se faire et afin d'améliorer la lisibilité de nos résultats, nous allons utiliser nos tranches d'âge et analyser si une corrélation existe avec les catégories. Nous avions posé comme hypothèse que les personnes de moins de 30 ans privilégient les produits de la catégorie 2."
   ]
  },
  {
   "cell_type": "code",
   "execution_count": 70,
   "metadata": {},
   "outputs": [
    {
     "data": {
      "image/png": "[encoded data removed]",
      "text/plain": [
       "<Figure size 432x288 with 2 Axes>"
      ]
     },
     "metadata": {
      "needs_background": "light"
     },
     "output_type": "display_data"
    }
   ],
   "source": [
    "X = \"trancheage\"\n",
    "Y = \"categ\"\n",
    "\n",
    "cont = Base[[X,Y]].pivot_table(index=X,columns=Y,aggfunc=len,margins=True,margins_name=\"Total\")\n",
    "tx = cont.loc[:,[\"Total\"]]\n",
    "ty = cont.loc[[\"Total\"],:]\n",
    "n = len(Base)\n",
    "indep = tx.dot(ty) / n\n",
    "c = cont.fillna(0) # On remplace les valeurs nulles par 0\n",
    "measure = (c-indep)**2/indep\n",
    "xi_n = measure.sum().sum()\n",
    "table = measure/xi_n\n",
    "sb.heatmap(table.iloc[:-1,:-1],annot=c.iloc[:-1,:-1])\n",
    "pp.show()"
   ]
  },
  {
   "cell_type": "markdown",
   "metadata": {
    "scrolled": false
   },
   "source": [
    "Nous constatons qu'il existe une corrélation entre les moins de 30 ans et la catégorie 2.\n",
    "Notre hypothèse est validée grâce au test de KHIDEUX."
   ]
  },
  {
   "cell_type": "markdown",
   "metadata": {},
   "source": [
    "[Retour au Sommaire](#Sommaire)"
   ]
  },
  {
   "cell_type": "markdown",
   "metadata": {},
   "source": [
    "### B - 1 variable qualitative et 1 variable quantitative : ANOVA <a id=\"Titre4B\"></a>\n",
    "\n",
    "Etudier une corrélation entre une variable qualitative et une variable quantitative revient à effectuer une regression linéaire et de comparer les valeurs obtenues avec une courbe de type y = ax + b. Visuellement, une variable peut sembler être corrélée ou non. Nous calculons alors l'eta_carré qui permet de savoir si la variable quantitative est corrélée à la variable qualitative. Cet indicateur doit être inclus entre 0 et 1 : 0 étant une valeur fortement corrélée et 1 absolument pas corrélée."
   ]
  },
  {
   "cell_type": "markdown",
   "metadata": {},
   "source": [
    "#### Y a-t-il une corrélation entre l'âge des clients et le montant des ventes ?\n",
    "\n",
    "Pour se faire et afin d'améliorer la lisibilité de nos résultats, nous allons utiliser nos tranches d'âge et analyser si une corrélation existe avec le chiffre d'affaires constaté."
   ]
  },
  {
   "cell_type": "code",
   "execution_count": 71,
   "metadata": {},
   "outputs": [
    {
     "data": {
      "text/plain": [
       "Text(0.5, 1.0, \"Evolution du chiffre d'affaires par tranche d'âge\")"
      ]
     },
     "execution_count": 71,
     "metadata": {},
     "output_type": "execute_result"
    },
    {
     "data": {
      "image/png": "[encoded data removed]",
      "text/plain": [
       "<Figure size 432x288 with 1 Axes>"
      ]
     },
     "metadata": {
      "needs_background": "light"
     },
     "output_type": "display_data"
    }
   ],
   "source": [
    "Trancheprix = Base.groupby(['trancheage'],as_index = True ).price.sum()\n",
    "Trancheprix.plot(kind = 'bar')\n",
    "pp.xlabel(\"Tranche d'âge\")\n",
    "pp.ylabel(\"Chiffre d'affaire\")\n",
    "pp.title(\"Evolution du chiffre d'affaires par tranche d'âge\")"
   ]
  },
  {
   "cell_type": "code",
   "execution_count": 72,
   "metadata": {},
   "outputs": [
    {
     "data": {
      "text/plain": [
       "0.23383505985834913"
      ]
     },
     "execution_count": 72,
     "metadata": {},
     "output_type": "execute_result"
    }
   ],
   "source": [
    "X = \"trancheage\" # qualitative\n",
    "Y = \"price\" # quantitative\n",
    "\n",
    "eta_squared(Base[X],Base[Y])"
   ]
  },
  {
   "cell_type": "markdown",
   "metadata": {},
   "source": [
    "- Notre repère semble tracer une droite partant de 170 000 euros environ pour la tranche d'age 18-30 ans jusqu'à presque 0 pour la tranche d'âge 83 ans et plus.\n",
    "- Notre eta_carré est de 0.23 ce qui montre que nos variables ne sont pas parfaitement corrélées mais que plus l'on est jeune, plus l'on achète de produits de Restez Livres.  "
   ]
  },
  {
   "cell_type": "markdown",
   "metadata": {},
   "source": [
    "[Retour au Sommaire](#Sommaire)"
   ]
  },
  {
   "cell_type": "markdown",
   "metadata": {},
   "source": [
    "### C - 2 variables quantitatives : Coefficient de Pierson <a id=\"Titre4C\"></a>\n",
    "\n",
    "Etudier une corrélation entre deux variables quantitatives revient à effectuer une regression linéaire et de comparer les valeurs obtenues avec une courbe de type y = ax + b. Visuellement, une variable peut sembler être corrélée ou non. Nous calculons alors le coefficient de Pierson qui permet de savoir si deux variables quantitatives sont corrélées. Cet indicateur doit être inclus entre -1 et 1 : 0 étant une valeur non corrélée, 1 une valeur corrélée (les deux variables augmentent ensemble) et -1 une valeur corrélée (Si une variable augmente, la seconde diminue)."
   ]
  },
  {
   "cell_type": "markdown",
   "metadata": {},
   "source": [
    "#### 1 - Y a-t-il une corrélation entre l'âge des clients et le nombre de ventes ?"
   ]
  },
  {
   "cell_type": "code",
   "execution_count": 73,
   "metadata": {
    "scrolled": true
   },
   "outputs": [
    {
     "data": {
      "text/plain": [
       "Text(0.5, 1.0, \"Evolution du nombre de ventes en fonction de l'age des clients\")"
      ]
     },
     "execution_count": 73,
     "metadata": {},
     "output_type": "execute_result"
    },
    {
     "data": {
      "image/png": "[encoded data removed]",
      "text/plain": [
       "<Figure size 432x288 with 1 Axes>"
      ]
     },
     "metadata": {
      "needs_background": "light"
     },
     "output_type": "display_data"
    }
   ],
   "source": [
    "Ageprix = Base.groupby(['age'],as_index = True ).session_id.count()\n",
    "Ageprix.plot(kind = 'bar')\n",
    "pp.xlabel(\"Age\")\n",
    "pp.ylabel(\"Nombre de ventes\")\n",
    "pp.title(\"Evolution du nombre de ventes en fonction de l'age des clients\")"
   ]
  },
  {
   "cell_type": "code",
   "execution_count": 74,
   "metadata": {
    "scrolled": true
   },
   "outputs": [
    {
     "name": "stdout",
     "output_type": "stream",
     "text": [
      "-0.5317985753516941\n"
     ]
    }
   ],
   "source": [
    "Ageprix = Base.groupby(['age'],as_index = False ).session_id.count()\n",
    "print(st.pearsonr(Ageprix[\"age\"],Ageprix[\"session_id\"])[0])"
   ]
  },
  {
   "cell_type": "markdown",
   "metadata": {},
   "source": [
    "- Le pic de consommation en terme de nombre de ventes se trouve entre 30 et 55 ans.\n",
    "- Les moins de 30 ans achètent moins mais ciblent plus les produits de catégories 2 qui sont plus chers.\n",
    "- Le coefficient de Pierson est de -0.53 ce qui ne nous permet pas de conclure sur une corrélation entre ces variables."
   ]
  },
  {
   "cell_type": "markdown",
   "metadata": {},
   "source": [
    "#### 2 - Y a-t-il une corrélation entre l'âge des clients et la taille du panier moyen ?"
   ]
  },
  {
   "cell_type": "code",
   "execution_count": 75,
   "metadata": {
    "scrolled": true
   },
   "outputs": [
    {
     "data": {
      "text/plain": [
       "Text(0.5, 1.0, \"Evolution du panier moyen en fonction de l'age des clients\")"
      ]
     },
     "execution_count": 75,
     "metadata": {},
     "output_type": "execute_result"
    },
    {
     "data": {
      "image/png": "[encoded data removed]",
      "text/plain": [
       "<Figure size 432x288 with 1 Axes>"
      ]
     },
     "metadata": {
      "needs_background": "light"
     },
     "output_type": "display_data"
    }
   ],
   "source": [
    "Panier_moyen1 = Base.groupby(['age','session_id'],as_index = False ).price.sum()\n",
    "Panier_moyen = Panier_moyen1.groupby(['age'],as_index = True ).price.mean()\n",
    "Panier_moyen.plot(kind = 'bar')\n",
    "pp.xlabel(\"Age\")\n",
    "pp.ylabel(\"Panier moyen\")\n",
    "pp.title(\"Evolution du panier moyen en fonction de l'age des clients\")"
   ]
  },
  {
   "cell_type": "code",
   "execution_count": 76,
   "metadata": {
    "scrolled": true
   },
   "outputs": [
    {
     "name": "stdout",
     "output_type": "stream",
     "text": [
      "-0.7510836350498594\n"
     ]
    }
   ],
   "source": [
    "Panier_moyen = Panier_moyen1.groupby(['age'],as_index = False ).price.mean()\n",
    "print(st.pearsonr(Panier_moyen[\"age\"],Panier_moyen[\"price\"])[0])"
   ]
  },
  {
   "cell_type": "markdown",
   "metadata": {},
   "source": [
    "- Les moins de 30 ans ont un panier moyen supérieur aux autres tranches d'âge.\n",
    "- Après 30 ans, le panier moyen est stable.\n",
    "- Le coefficient de Pierson est de -0.75 ce qui signifie qu'il y a une légère corrélation entre l'âge et le panier moyen. Cette corrélation est inverse car le coefficient est négatif (plus l'âge augmente, plus le panier moyen diminue)."
   ]
  },
  {
   "cell_type": "markdown",
   "metadata": {},
   "source": [
    "[Retour au Sommaire](#Sommaire)"
   ]
  }
 ],
 "metadata": {
  "kernelspec": {
   "display_name": "Python 3",
   "language": "python",
   "name": "python3"
  },
  "language_info": {
   "codemirror_mode": {
    "name": "ipython",
    "version": 3
   },
   "file_extension": ".py",
   "mimetype": "text/x-python",
   "name": "python",
   "nbconvert_exporter": "python",
   "pygments_lexer": "ipython3",
   "version": "3.7.6"
  }
 },
 "nbformat": 4,
 "nbformat_minor": 4
}
